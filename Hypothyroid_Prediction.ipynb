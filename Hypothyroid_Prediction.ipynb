{
 "cells": [
  {
   "cell_type": "markdown",
   "metadata": {
    "colab_type": "text",
    "id": "RvuC3f6ttno5"
   },
   "source": [
    "## Hypothyroidism Prediction\n",
    "\n",
    "##### Hypothyroid Disease Prediction Using Random Foreset and SVM Classifiers\n",
    "\n",
    "#### Context\n",
    "Nairobi Hospital conducted a clinical camp to test for hypothyroidism. The data collected focused on Thyroid patients. Use the healthcare datasets provided to accomplish the following:  \n",
    "\n",
    "Build a model that determines whether or not the patient's symptoms indicate that the patient has hypothyroid.\n",
    "\n",
    "#### 1. Decision Trees\n",
    "We will use the following trees to classify a whether a patient has hypothyroididm or tests negatively:\n",
    "\n",
    "<li>Random Forest Classifier</li>\n",
    "<li>AdaBoost Classifier</li>\n",
    "<li>Gradient Boost Classifier</li>\n",
    "The Adaboost and Gradient boost trees are optimization techniques for the random forest trees.\n",
    "\n",
    "#### 2. SVM Models\n",
    "We will use the following SVM models to to place a patient in the right category with regards to predicting their hypothyroidism status:\n",
    "\n",
    "<li>Polynomial</li>\n",
    "<li>Linear</li>\n",
    "<li>RBF</li>\n",
    "\n",
    "#### Dataset\n",
    "\n",
    "Dataset Files \n",
    "\n",
    "Source [<a href = \"https://moringaschool.instructure.com/courses/93/assignments/453\">Link</a>]\n",
    "\n",
    "#### Dataset Columns\n",
    "\n",
    "<ul>\n",
    "    <li>Age</li>\n",
    "    <li>Sex</li>\n",
    "    <li>on_thyroxine</li>\n",
    "    <li>query_on_thyroxine</li>\n",
    "    <li>on_antithyroid_medicationthyroid_surgery</li>\n",
    "    <li>query_hypothyroid</li>\n",
    "    <li>query_hyperthyroid</li>\n",
    "    <li>pregnant</li>\n",
    "    <li>sick</li>\n",
    "    <li>lithium</li>\n",
    "    <li>goitre</li>\n",
    "    <li>TSH_measured</li>\n",
    "    <li>TSH</li>\n",
    "    <li>T3_measured</li>\n",
    "    <li>TT4_measured</li>\n",
    "    <li>TT4</li>\n",
    "</ul>"
   ]
  },
  {
   "cell_type": "markdown",
   "metadata": {
    "colab_type": "text",
    "id": "zYy1lW-2tno9"
   },
   "source": [
    "### 1. Import Libraries"
   ]
  },
  {
   "cell_type": "code",
   "execution_count": 83,
   "metadata": {
    "colab": {
     "base_uri": "https://localhost:8080/",
     "height": 71
    },
    "colab_type": "code",
    "id": "bJ-7Puaztno-",
    "outputId": "03e47c4e-84ed-4039-bc4f-56ae589163f1",
    "scrolled": true
   },
   "outputs": [],
   "source": [
    "## Import Libraries\n",
    "# Data Manipulation libraries\n",
    "import pandas as pd\n",
    "import numpy as np\n",
    "import math\n",
    "from scipy import stats\n",
    "\n",
    "# Visualization libraries\n",
    "import matplotlib.pyplot as plt\n",
    "%matplotlib inline \n",
    "import seaborn as sns; sns.set(font_scale=1.2); sns.set(rc={'figure.figsize':(10, 8)})\n",
    "\n",
    "# Modelling library\n",
    "from sklearn.model_selection import train_test_split, GridSearchCV, RandomizedSearchCV, KFold, cross_val_score\n",
    "from sklearn.ensemble import AdaBoostClassifier, RandomForestClassifier, GradientBoostingClassifier\n",
    "from sklearn.svm import SVC\n",
    "from sklearn.neighbors import KNeighborsClassifier\n",
    "from sklearn.linear_model import LogisticRegression\n",
    "from sklearn import metrics\n",
    "from sklearn.metrics import accuracy_score, confusion_matrix, classification_report, f1_score\n",
    "from sklearn import metrics\n",
    "from sklearn.tree import export_graphviz\n",
    "from sklearn.externals.six import StringIO  \n",
    "from IPython.display import Image  \n",
    "import pydotplus\n",
    "import warnings\n",
    "warnings.filterwarnings(action = 'ignore')"
   ]
  },
  {
   "cell_type": "markdown",
   "metadata": {
    "colab_type": "text",
    "id": "zrt5Ndg5tnpE"
   },
   "source": [
    "### 2. Load dataset"
   ]
  },
  {
   "cell_type": "code",
   "execution_count": 84,
   "metadata": {
    "colab": {
     "base_uri": "https://localhost:8080/",
     "height": 224
    },
    "colab_type": "code",
    "id": "-K2DQrUgtnpF",
    "outputId": "fd54cf15-b4d0-4e78-d5d6-4a01b96f70e5"
   },
   "outputs": [
    {
     "data": {
      "text/html": [
       "<div>\n",
       "<style scoped>\n",
       "    .dataframe tbody tr th:only-of-type {\n",
       "        vertical-align: middle;\n",
       "    }\n",
       "\n",
       "    .dataframe tbody tr th {\n",
       "        vertical-align: top;\n",
       "    }\n",
       "\n",
       "    .dataframe thead th {\n",
       "        text-align: right;\n",
       "    }\n",
       "</style>\n",
       "<table border=\"1\" class=\"dataframe\">\n",
       "  <thead>\n",
       "    <tr style=\"text-align: right;\">\n",
       "      <th></th>\n",
       "      <th>status</th>\n",
       "      <th>age</th>\n",
       "      <th>sex</th>\n",
       "      <th>on_thyroxine</th>\n",
       "      <th>query_on_thyroxine</th>\n",
       "      <th>on_antithyroid_medication</th>\n",
       "      <th>thyroid_surgery</th>\n",
       "      <th>query_hypothyroid</th>\n",
       "      <th>query_hyperthyroid</th>\n",
       "      <th>pregnant</th>\n",
       "      <th>...</th>\n",
       "      <th>T3_measured</th>\n",
       "      <th>T3</th>\n",
       "      <th>TT4_measured</th>\n",
       "      <th>TT4</th>\n",
       "      <th>T4U_measured</th>\n",
       "      <th>T4U</th>\n",
       "      <th>FTI_measured</th>\n",
       "      <th>FTI</th>\n",
       "      <th>TBG_measured</th>\n",
       "      <th>TBG</th>\n",
       "    </tr>\n",
       "  </thead>\n",
       "  <tbody>\n",
       "    <tr>\n",
       "      <th>603</th>\n",
       "      <td>negative</td>\n",
       "      <td>35</td>\n",
       "      <td>M</td>\n",
       "      <td>f</td>\n",
       "      <td>f</td>\n",
       "      <td>f</td>\n",
       "      <td>f</td>\n",
       "      <td>f</td>\n",
       "      <td>f</td>\n",
       "      <td>f</td>\n",
       "      <td>...</td>\n",
       "      <td>y</td>\n",
       "      <td>0.40</td>\n",
       "      <td>y</td>\n",
       "      <td>31</td>\n",
       "      <td>y</td>\n",
       "      <td>0.95</td>\n",
       "      <td>y</td>\n",
       "      <td>33</td>\n",
       "      <td>n</td>\n",
       "      <td>?</td>\n",
       "    </tr>\n",
       "    <tr>\n",
       "      <th>2708</th>\n",
       "      <td>negative</td>\n",
       "      <td>23</td>\n",
       "      <td>F</td>\n",
       "      <td>f</td>\n",
       "      <td>f</td>\n",
       "      <td>f</td>\n",
       "      <td>f</td>\n",
       "      <td>f</td>\n",
       "      <td>f</td>\n",
       "      <td>f</td>\n",
       "      <td>...</td>\n",
       "      <td>n</td>\n",
       "      <td>?</td>\n",
       "      <td>y</td>\n",
       "      <td>64</td>\n",
       "      <td>y</td>\n",
       "      <td>0.86</td>\n",
       "      <td>y</td>\n",
       "      <td>74</td>\n",
       "      <td>n</td>\n",
       "      <td>?</td>\n",
       "    </tr>\n",
       "    <tr>\n",
       "      <th>1854</th>\n",
       "      <td>negative</td>\n",
       "      <td>15</td>\n",
       "      <td>M</td>\n",
       "      <td>f</td>\n",
       "      <td>f</td>\n",
       "      <td>f</td>\n",
       "      <td>f</td>\n",
       "      <td>f</td>\n",
       "      <td>t</td>\n",
       "      <td>f</td>\n",
       "      <td>...</td>\n",
       "      <td>n</td>\n",
       "      <td>?</td>\n",
       "      <td>n</td>\n",
       "      <td>?</td>\n",
       "      <td>n</td>\n",
       "      <td>?</td>\n",
       "      <td>n</td>\n",
       "      <td>?</td>\n",
       "      <td>y</td>\n",
       "      <td>12</td>\n",
       "    </tr>\n",
       "    <tr>\n",
       "      <th>1392</th>\n",
       "      <td>negative</td>\n",
       "      <td>78</td>\n",
       "      <td>F</td>\n",
       "      <td>f</td>\n",
       "      <td>f</td>\n",
       "      <td>f</td>\n",
       "      <td>f</td>\n",
       "      <td>f</td>\n",
       "      <td>f</td>\n",
       "      <td>f</td>\n",
       "      <td>...</td>\n",
       "      <td>y</td>\n",
       "      <td>1.10</td>\n",
       "      <td>y</td>\n",
       "      <td>70</td>\n",
       "      <td>y</td>\n",
       "      <td>0.92</td>\n",
       "      <td>y</td>\n",
       "      <td>76</td>\n",
       "      <td>n</td>\n",
       "      <td>?</td>\n",
       "    </tr>\n",
       "    <tr>\n",
       "      <th>470</th>\n",
       "      <td>negative</td>\n",
       "      <td>77</td>\n",
       "      <td>F</td>\n",
       "      <td>f</td>\n",
       "      <td>f</td>\n",
       "      <td>f</td>\n",
       "      <td>f</td>\n",
       "      <td>f</td>\n",
       "      <td>f</td>\n",
       "      <td>f</td>\n",
       "      <td>...</td>\n",
       "      <td>y</td>\n",
       "      <td>2.10</td>\n",
       "      <td>y</td>\n",
       "      <td>127</td>\n",
       "      <td>y</td>\n",
       "      <td>1.07</td>\n",
       "      <td>y</td>\n",
       "      <td>119</td>\n",
       "      <td>n</td>\n",
       "      <td>?</td>\n",
       "    </tr>\n",
       "  </tbody>\n",
       "</table>\n",
       "<p>5 rows × 26 columns</p>\n",
       "</div>"
      ],
      "text/plain": [
       "        status age sex on_thyroxine query_on_thyroxine  \\\n",
       "603   negative  35   M            f                  f   \n",
       "2708  negative  23   F            f                  f   \n",
       "1854  negative  15   M            f                  f   \n",
       "1392  negative  78   F            f                  f   \n",
       "470   negative  77   F            f                  f   \n",
       "\n",
       "     on_antithyroid_medication thyroid_surgery query_hypothyroid  \\\n",
       "603                          f               f                 f   \n",
       "2708                         f               f                 f   \n",
       "1854                         f               f                 f   \n",
       "1392                         f               f                 f   \n",
       "470                          f               f                 f   \n",
       "\n",
       "     query_hyperthyroid pregnant  ... T3_measured    T3 TT4_measured  TT4  \\\n",
       "603                   f        f  ...           y  0.40            y   31   \n",
       "2708                  f        f  ...           n     ?            y   64   \n",
       "1854                  t        f  ...           n     ?            n    ?   \n",
       "1392                  f        f  ...           y  1.10            y   70   \n",
       "470                   f        f  ...           y  2.10            y  127   \n",
       "\n",
       "     T4U_measured   T4U FTI_measured  FTI TBG_measured TBG  \n",
       "603             y  0.95            y   33            n   ?  \n",
       "2708            y  0.86            y   74            n   ?  \n",
       "1854            n     ?            n    ?            y  12  \n",
       "1392            y  0.92            y   76            n   ?  \n",
       "470             y  1.07            y  119            n   ?  \n",
       "\n",
       "[5 rows x 26 columns]"
      ]
     },
     "execution_count": 84,
     "metadata": {},
     "output_type": "execute_result"
    }
   ],
   "source": [
    "# Load dataset\n",
    "data = pd.read_csv('hypothyroid.csv')\n",
    "\n",
    "# Check sample dataset\n",
    "data.sample(5)"
   ]
  },
  {
   "cell_type": "markdown",
   "metadata": {
    "colab_type": "text",
    "id": "LwSOuJLutnpK"
   },
   "source": [
    "### 3. Exploring the dataset"
   ]
  },
  {
   "cell_type": "code",
   "execution_count": 85,
   "metadata": {
    "colab": {
     "base_uri": "https://localhost:8080/",
     "height": 34
    },
    "colab_type": "code",
    "id": "ABMwtp0ztnpL",
    "outputId": "8f1e3020-5763-4e0a-c707-5553d67d13d1"
   },
   "outputs": [
    {
     "name": "stdout",
     "output_type": "stream",
     "text": [
      "Shape of our dataset: (3163, 26)\n"
     ]
    }
   ],
   "source": [
    "print('Shape of our dataset: '+ str(data.shape))"
   ]
  },
  {
   "cell_type": "code",
   "execution_count": 86,
   "metadata": {
    "colab": {
     "base_uri": "https://localhost:8080/",
     "height": 544
    },
    "colab_type": "code",
    "id": "ghT1FuYZtnpP",
    "outputId": "eadcbf6f-eb3e-4dc4-b48f-c8b3d73b47ed"
   },
   "outputs": [
    {
     "name": "stdout",
     "output_type": "stream",
     "text": [
      "<class 'pandas.core.frame.DataFrame'>\n",
      "RangeIndex: 3163 entries, 0 to 3162\n",
      "Data columns (total 26 columns):\n",
      "status                       3163 non-null object\n",
      "age                          3163 non-null object\n",
      "sex                          3163 non-null object\n",
      "on_thyroxine                 3163 non-null object\n",
      "query_on_thyroxine           3163 non-null object\n",
      "on_antithyroid_medication    3163 non-null object\n",
      "thyroid_surgery              3163 non-null object\n",
      "query_hypothyroid            3163 non-null object\n",
      "query_hyperthyroid           3163 non-null object\n",
      "pregnant                     3163 non-null object\n",
      "sick                         3163 non-null object\n",
      "tumor                        3163 non-null object\n",
      "lithium                      3163 non-null object\n",
      "goitre                       3163 non-null object\n",
      "TSH_measured                 3163 non-null object\n",
      "TSH                          3163 non-null object\n",
      "T3_measured                  3163 non-null object\n",
      "T3                           3163 non-null object\n",
      "TT4_measured                 3163 non-null object\n",
      "TT4                          3163 non-null object\n",
      "T4U_measured                 3163 non-null object\n",
      "T4U                          3163 non-null object\n",
      "FTI_measured                 3163 non-null object\n",
      "FTI                          3163 non-null object\n",
      "TBG_measured                 3163 non-null object\n",
      "TBG                          3163 non-null object\n",
      "dtypes: object(26)\n",
      "memory usage: 642.6+ KB\n"
     ]
    }
   ],
   "source": [
    "# Dataset info\n",
    "data.info()"
   ]
  },
  {
   "cell_type": "markdown",
   "metadata": {
    "colab_type": "text",
    "id": "x3mq7kcntnpT"
   },
   "source": [
    "<li> The dataset is categorical and no numerical data</li>"
   ]
  },
  {
   "cell_type": "code",
   "execution_count": 87,
   "metadata": {
    "colab": {
     "base_uri": "https://localhost:8080/",
     "height": 855
    },
    "colab_type": "code",
    "id": "Ck0Ni99htnpU",
    "outputId": "21349365-1b5b-4709-e714-4ef476c7b787"
   },
   "outputs": [
    {
     "data": {
      "text/html": [
       "<div>\n",
       "<style scoped>\n",
       "    .dataframe tbody tr th:only-of-type {\n",
       "        vertical-align: middle;\n",
       "    }\n",
       "\n",
       "    .dataframe tbody tr th {\n",
       "        vertical-align: top;\n",
       "    }\n",
       "\n",
       "    .dataframe thead th {\n",
       "        text-align: right;\n",
       "    }\n",
       "</style>\n",
       "<table border=\"1\" class=\"dataframe\">\n",
       "  <thead>\n",
       "    <tr style=\"text-align: right;\">\n",
       "      <th></th>\n",
       "      <th>count</th>\n",
       "      <th>unique</th>\n",
       "      <th>top</th>\n",
       "      <th>freq</th>\n",
       "    </tr>\n",
       "  </thead>\n",
       "  <tbody>\n",
       "    <tr>\n",
       "      <th>status</th>\n",
       "      <td>3163</td>\n",
       "      <td>2</td>\n",
       "      <td>negative</td>\n",
       "      <td>3012</td>\n",
       "    </tr>\n",
       "    <tr>\n",
       "      <th>age</th>\n",
       "      <td>3163</td>\n",
       "      <td>93</td>\n",
       "      <td>?</td>\n",
       "      <td>446</td>\n",
       "    </tr>\n",
       "    <tr>\n",
       "      <th>sex</th>\n",
       "      <td>3163</td>\n",
       "      <td>3</td>\n",
       "      <td>F</td>\n",
       "      <td>2182</td>\n",
       "    </tr>\n",
       "    <tr>\n",
       "      <th>on_thyroxine</th>\n",
       "      <td>3163</td>\n",
       "      <td>2</td>\n",
       "      <td>f</td>\n",
       "      <td>2702</td>\n",
       "    </tr>\n",
       "    <tr>\n",
       "      <th>query_on_thyroxine</th>\n",
       "      <td>3163</td>\n",
       "      <td>2</td>\n",
       "      <td>f</td>\n",
       "      <td>3108</td>\n",
       "    </tr>\n",
       "    <tr>\n",
       "      <th>on_antithyroid_medication</th>\n",
       "      <td>3163</td>\n",
       "      <td>2</td>\n",
       "      <td>f</td>\n",
       "      <td>3121</td>\n",
       "    </tr>\n",
       "    <tr>\n",
       "      <th>thyroid_surgery</th>\n",
       "      <td>3163</td>\n",
       "      <td>2</td>\n",
       "      <td>f</td>\n",
       "      <td>3059</td>\n",
       "    </tr>\n",
       "    <tr>\n",
       "      <th>query_hypothyroid</th>\n",
       "      <td>3163</td>\n",
       "      <td>2</td>\n",
       "      <td>f</td>\n",
       "      <td>2922</td>\n",
       "    </tr>\n",
       "    <tr>\n",
       "      <th>query_hyperthyroid</th>\n",
       "      <td>3163</td>\n",
       "      <td>2</td>\n",
       "      <td>f</td>\n",
       "      <td>2920</td>\n",
       "    </tr>\n",
       "    <tr>\n",
       "      <th>pregnant</th>\n",
       "      <td>3163</td>\n",
       "      <td>2</td>\n",
       "      <td>f</td>\n",
       "      <td>3100</td>\n",
       "    </tr>\n",
       "    <tr>\n",
       "      <th>sick</th>\n",
       "      <td>3163</td>\n",
       "      <td>2</td>\n",
       "      <td>f</td>\n",
       "      <td>3064</td>\n",
       "    </tr>\n",
       "    <tr>\n",
       "      <th>tumor</th>\n",
       "      <td>3163</td>\n",
       "      <td>2</td>\n",
       "      <td>f</td>\n",
       "      <td>3123</td>\n",
       "    </tr>\n",
       "    <tr>\n",
       "      <th>lithium</th>\n",
       "      <td>3163</td>\n",
       "      <td>2</td>\n",
       "      <td>f</td>\n",
       "      <td>3161</td>\n",
       "    </tr>\n",
       "    <tr>\n",
       "      <th>goitre</th>\n",
       "      <td>3163</td>\n",
       "      <td>2</td>\n",
       "      <td>f</td>\n",
       "      <td>3064</td>\n",
       "    </tr>\n",
       "    <tr>\n",
       "      <th>TSH_measured</th>\n",
       "      <td>3163</td>\n",
       "      <td>2</td>\n",
       "      <td>y</td>\n",
       "      <td>2695</td>\n",
       "    </tr>\n",
       "    <tr>\n",
       "      <th>TSH</th>\n",
       "      <td>3163</td>\n",
       "      <td>240</td>\n",
       "      <td>0</td>\n",
       "      <td>894</td>\n",
       "    </tr>\n",
       "    <tr>\n",
       "      <th>T3_measured</th>\n",
       "      <td>3163</td>\n",
       "      <td>2</td>\n",
       "      <td>y</td>\n",
       "      <td>2468</td>\n",
       "    </tr>\n",
       "    <tr>\n",
       "      <th>T3</th>\n",
       "      <td>3163</td>\n",
       "      <td>70</td>\n",
       "      <td>?</td>\n",
       "      <td>695</td>\n",
       "    </tr>\n",
       "    <tr>\n",
       "      <th>TT4_measured</th>\n",
       "      <td>3163</td>\n",
       "      <td>2</td>\n",
       "      <td>y</td>\n",
       "      <td>2914</td>\n",
       "    </tr>\n",
       "    <tr>\n",
       "      <th>TT4</th>\n",
       "      <td>3163</td>\n",
       "      <td>269</td>\n",
       "      <td>?</td>\n",
       "      <td>249</td>\n",
       "    </tr>\n",
       "    <tr>\n",
       "      <th>T4U_measured</th>\n",
       "      <td>3163</td>\n",
       "      <td>2</td>\n",
       "      <td>y</td>\n",
       "      <td>2915</td>\n",
       "    </tr>\n",
       "    <tr>\n",
       "      <th>T4U</th>\n",
       "      <td>3163</td>\n",
       "      <td>159</td>\n",
       "      <td>?</td>\n",
       "      <td>248</td>\n",
       "    </tr>\n",
       "    <tr>\n",
       "      <th>FTI_measured</th>\n",
       "      <td>3163</td>\n",
       "      <td>2</td>\n",
       "      <td>y</td>\n",
       "      <td>2916</td>\n",
       "    </tr>\n",
       "    <tr>\n",
       "      <th>FTI</th>\n",
       "      <td>3163</td>\n",
       "      <td>281</td>\n",
       "      <td>?</td>\n",
       "      <td>247</td>\n",
       "    </tr>\n",
       "    <tr>\n",
       "      <th>TBG_measured</th>\n",
       "      <td>3163</td>\n",
       "      <td>2</td>\n",
       "      <td>n</td>\n",
       "      <td>2903</td>\n",
       "    </tr>\n",
       "    <tr>\n",
       "      <th>TBG</th>\n",
       "      <td>3163</td>\n",
       "      <td>53</td>\n",
       "      <td>?</td>\n",
       "      <td>2903</td>\n",
       "    </tr>\n",
       "  </tbody>\n",
       "</table>\n",
       "</div>"
      ],
      "text/plain": [
       "                          count unique       top  freq\n",
       "status                     3163      2  negative  3012\n",
       "age                        3163     93         ?   446\n",
       "sex                        3163      3         F  2182\n",
       "on_thyroxine               3163      2         f  2702\n",
       "query_on_thyroxine         3163      2         f  3108\n",
       "on_antithyroid_medication  3163      2         f  3121\n",
       "thyroid_surgery            3163      2         f  3059\n",
       "query_hypothyroid          3163      2         f  2922\n",
       "query_hyperthyroid         3163      2         f  2920\n",
       "pregnant                   3163      2         f  3100\n",
       "sick                       3163      2         f  3064\n",
       "tumor                      3163      2         f  3123\n",
       "lithium                    3163      2         f  3161\n",
       "goitre                     3163      2         f  3064\n",
       "TSH_measured               3163      2         y  2695\n",
       "TSH                        3163    240         0   894\n",
       "T3_measured                3163      2         y  2468\n",
       "T3                         3163     70         ?   695\n",
       "TT4_measured               3163      2         y  2914\n",
       "TT4                        3163    269         ?   249\n",
       "T4U_measured               3163      2         y  2915\n",
       "T4U                        3163    159         ?   248\n",
       "FTI_measured               3163      2         y  2916\n",
       "FTI                        3163    281         ?   247\n",
       "TBG_measured               3163      2         n  2903\n",
       "TBG                        3163     53         ?  2903"
      ]
     },
     "execution_count": 87,
     "metadata": {},
     "output_type": "execute_result"
    }
   ],
   "source": [
    "# Describe the data\n",
    "data.describe(include=\"all\").T"
   ]
  },
  {
   "cell_type": "markdown",
   "metadata": {
    "colab_type": "text",
    "id": "pnnu3cfGtnpY"
   },
   "source": [
    "### 4. Data Cleaning"
   ]
  },
  {
   "cell_type": "code",
   "execution_count": 88,
   "metadata": {
    "colab": {
     "base_uri": "https://localhost:8080/",
     "height": 34
    },
    "colab_type": "code",
    "id": "gdE9cD_2tnpa",
    "outputId": "71fb5b32-1628-4f04-bf81-c94c1b77c2f2"
   },
   "outputs": [
    {
     "data": {
      "text/plain": [
       "True"
      ]
     },
     "execution_count": 88,
     "metadata": {},
     "output_type": "execute_result"
    }
   ],
   "source": [
    "# Check for duplicated data\n",
    "\n",
    "data.duplicated().any()"
   ]
  },
  {
   "cell_type": "markdown",
   "metadata": {
    "colab_type": "text",
    "id": "L7-yQltftnpd"
   },
   "source": [
    "<li>This indicates presence of duplicated record; we should investigate and find out how many and also which ones</li>"
   ]
  },
  {
   "cell_type": "code",
   "execution_count": 89,
   "metadata": {
    "colab": {
     "base_uri": "https://localhost:8080/",
     "height": 456
    },
    "colab_type": "code",
    "id": "dIUMD3b9tnpe",
    "outputId": "c853cb3c-04bc-47de-d226-3f3444c0a0c9"
   },
   "outputs": [
    {
     "name": "stdout",
     "output_type": "stream",
     "text": [
      "Duplicate rows on all columns are:\n"
     ]
    },
    {
     "data": {
      "text/html": [
       "<div>\n",
       "<style scoped>\n",
       "    .dataframe tbody tr th:only-of-type {\n",
       "        vertical-align: middle;\n",
       "    }\n",
       "\n",
       "    .dataframe tbody tr th {\n",
       "        vertical-align: top;\n",
       "    }\n",
       "\n",
       "    .dataframe thead th {\n",
       "        text-align: right;\n",
       "    }\n",
       "</style>\n",
       "<table border=\"1\" class=\"dataframe\">\n",
       "  <thead>\n",
       "    <tr style=\"text-align: right;\">\n",
       "      <th></th>\n",
       "      <th>status</th>\n",
       "      <th>age</th>\n",
       "      <th>sex</th>\n",
       "      <th>on_thyroxine</th>\n",
       "      <th>query_on_thyroxine</th>\n",
       "      <th>on_antithyroid_medication</th>\n",
       "      <th>thyroid_surgery</th>\n",
       "      <th>query_hypothyroid</th>\n",
       "      <th>query_hyperthyroid</th>\n",
       "      <th>pregnant</th>\n",
       "      <th>...</th>\n",
       "      <th>T3_measured</th>\n",
       "      <th>T3</th>\n",
       "      <th>TT4_measured</th>\n",
       "      <th>TT4</th>\n",
       "      <th>T4U_measured</th>\n",
       "      <th>T4U</th>\n",
       "      <th>FTI_measured</th>\n",
       "      <th>FTI</th>\n",
       "      <th>TBG_measured</th>\n",
       "      <th>TBG</th>\n",
       "    </tr>\n",
       "  </thead>\n",
       "  <tbody>\n",
       "    <tr>\n",
       "      <th>10</th>\n",
       "      <td>hypothyroid</td>\n",
       "      <td>69</td>\n",
       "      <td>F</td>\n",
       "      <td>f</td>\n",
       "      <td>f</td>\n",
       "      <td>f</td>\n",
       "      <td>f</td>\n",
       "      <td>f</td>\n",
       "      <td>f</td>\n",
       "      <td>f</td>\n",
       "      <td>...</td>\n",
       "      <td>y</td>\n",
       "      <td>0.80</td>\n",
       "      <td>y</td>\n",
       "      <td>53</td>\n",
       "      <td>y</td>\n",
       "      <td>0.86</td>\n",
       "      <td>y</td>\n",
       "      <td>61</td>\n",
       "      <td>n</td>\n",
       "      <td>?</td>\n",
       "    </tr>\n",
       "    <tr>\n",
       "      <th>17</th>\n",
       "      <td>hypothyroid</td>\n",
       "      <td>78</td>\n",
       "      <td>F</td>\n",
       "      <td>f</td>\n",
       "      <td>f</td>\n",
       "      <td>f</td>\n",
       "      <td>f</td>\n",
       "      <td>f</td>\n",
       "      <td>f</td>\n",
       "      <td>f</td>\n",
       "      <td>...</td>\n",
       "      <td>y</td>\n",
       "      <td>0.20</td>\n",
       "      <td>y</td>\n",
       "      <td>17</td>\n",
       "      <td>y</td>\n",
       "      <td>1.01</td>\n",
       "      <td>y</td>\n",
       "      <td>16</td>\n",
       "      <td>n</td>\n",
       "      <td>?</td>\n",
       "    </tr>\n",
       "    <tr>\n",
       "      <th>32</th>\n",
       "      <td>hypothyroid</td>\n",
       "      <td>50</td>\n",
       "      <td>F</td>\n",
       "      <td>t</td>\n",
       "      <td>f</td>\n",
       "      <td>f</td>\n",
       "      <td>f</td>\n",
       "      <td>f</td>\n",
       "      <td>f</td>\n",
       "      <td>f</td>\n",
       "      <td>...</td>\n",
       "      <td>n</td>\n",
       "      <td>?</td>\n",
       "      <td>y</td>\n",
       "      <td>55</td>\n",
       "      <td>y</td>\n",
       "      <td>0.93</td>\n",
       "      <td>y</td>\n",
       "      <td>60</td>\n",
       "      <td>n</td>\n",
       "      <td>?</td>\n",
       "    </tr>\n",
       "    <tr>\n",
       "      <th>34</th>\n",
       "      <td>hypothyroid</td>\n",
       "      <td>24</td>\n",
       "      <td>F</td>\n",
       "      <td>f</td>\n",
       "      <td>f</td>\n",
       "      <td>f</td>\n",
       "      <td>f</td>\n",
       "      <td>f</td>\n",
       "      <td>f</td>\n",
       "      <td>f</td>\n",
       "      <td>...</td>\n",
       "      <td>y</td>\n",
       "      <td>0.70</td>\n",
       "      <td>y</td>\n",
       "      <td>28</td>\n",
       "      <td>y</td>\n",
       "      <td>1</td>\n",
       "      <td>y</td>\n",
       "      <td>28</td>\n",
       "      <td>n</td>\n",
       "      <td>?</td>\n",
       "    </tr>\n",
       "    <tr>\n",
       "      <th>39</th>\n",
       "      <td>hypothyroid</td>\n",
       "      <td>77</td>\n",
       "      <td>F</td>\n",
       "      <td>f</td>\n",
       "      <td>f</td>\n",
       "      <td>f</td>\n",
       "      <td>f</td>\n",
       "      <td>f</td>\n",
       "      <td>f</td>\n",
       "      <td>f</td>\n",
       "      <td>...</td>\n",
       "      <td>y</td>\n",
       "      <td>0.50</td>\n",
       "      <td>y</td>\n",
       "      <td>33</td>\n",
       "      <td>y</td>\n",
       "      <td>0.67</td>\n",
       "      <td>y</td>\n",
       "      <td>49</td>\n",
       "      <td>n</td>\n",
       "      <td>?</td>\n",
       "    </tr>\n",
       "    <tr>\n",
       "      <th>...</th>\n",
       "      <td>...</td>\n",
       "      <td>...</td>\n",
       "      <td>...</td>\n",
       "      <td>...</td>\n",
       "      <td>...</td>\n",
       "      <td>...</td>\n",
       "      <td>...</td>\n",
       "      <td>...</td>\n",
       "      <td>...</td>\n",
       "      <td>...</td>\n",
       "      <td>...</td>\n",
       "      <td>...</td>\n",
       "      <td>...</td>\n",
       "      <td>...</td>\n",
       "      <td>...</td>\n",
       "      <td>...</td>\n",
       "      <td>...</td>\n",
       "      <td>...</td>\n",
       "      <td>...</td>\n",
       "      <td>...</td>\n",
       "      <td>...</td>\n",
       "    </tr>\n",
       "    <tr>\n",
       "      <th>3048</th>\n",
       "      <td>negative</td>\n",
       "      <td>28</td>\n",
       "      <td>M</td>\n",
       "      <td>f</td>\n",
       "      <td>f</td>\n",
       "      <td>f</td>\n",
       "      <td>f</td>\n",
       "      <td>f</td>\n",
       "      <td>f</td>\n",
       "      <td>f</td>\n",
       "      <td>...</td>\n",
       "      <td>y</td>\n",
       "      <td>3.10</td>\n",
       "      <td>y</td>\n",
       "      <td>107</td>\n",
       "      <td>y</td>\n",
       "      <td>1.05</td>\n",
       "      <td>y</td>\n",
       "      <td>103</td>\n",
       "      <td>n</td>\n",
       "      <td>?</td>\n",
       "    </tr>\n",
       "    <tr>\n",
       "      <th>3055</th>\n",
       "      <td>negative</td>\n",
       "      <td>33</td>\n",
       "      <td>F</td>\n",
       "      <td>f</td>\n",
       "      <td>f</td>\n",
       "      <td>f</td>\n",
       "      <td>f</td>\n",
       "      <td>f</td>\n",
       "      <td>f</td>\n",
       "      <td>f</td>\n",
       "      <td>...</td>\n",
       "      <td>y</td>\n",
       "      <td>0.80</td>\n",
       "      <td>y</td>\n",
       "      <td>88</td>\n",
       "      <td>y</td>\n",
       "      <td>1.02</td>\n",
       "      <td>y</td>\n",
       "      <td>86</td>\n",
       "      <td>n</td>\n",
       "      <td>?</td>\n",
       "    </tr>\n",
       "    <tr>\n",
       "      <th>3066</th>\n",
       "      <td>negative</td>\n",
       "      <td>74</td>\n",
       "      <td>F</td>\n",
       "      <td>t</td>\n",
       "      <td>f</td>\n",
       "      <td>f</td>\n",
       "      <td>f</td>\n",
       "      <td>f</td>\n",
       "      <td>f</td>\n",
       "      <td>f</td>\n",
       "      <td>...</td>\n",
       "      <td>y</td>\n",
       "      <td>1.80</td>\n",
       "      <td>y</td>\n",
       "      <td>126</td>\n",
       "      <td>y</td>\n",
       "      <td>1.18</td>\n",
       "      <td>y</td>\n",
       "      <td>107</td>\n",
       "      <td>n</td>\n",
       "      <td>?</td>\n",
       "    </tr>\n",
       "    <tr>\n",
       "      <th>3111</th>\n",
       "      <td>negative</td>\n",
       "      <td>89</td>\n",
       "      <td>M</td>\n",
       "      <td>f</td>\n",
       "      <td>f</td>\n",
       "      <td>f</td>\n",
       "      <td>f</td>\n",
       "      <td>f</td>\n",
       "      <td>f</td>\n",
       "      <td>f</td>\n",
       "      <td>...</td>\n",
       "      <td>y</td>\n",
       "      <td>0.90</td>\n",
       "      <td>y</td>\n",
       "      <td>82</td>\n",
       "      <td>y</td>\n",
       "      <td>0.80</td>\n",
       "      <td>y</td>\n",
       "      <td>103</td>\n",
       "      <td>n</td>\n",
       "      <td>?</td>\n",
       "    </tr>\n",
       "    <tr>\n",
       "      <th>3151</th>\n",
       "      <td>negative</td>\n",
       "      <td>58</td>\n",
       "      <td>F</td>\n",
       "      <td>f</td>\n",
       "      <td>f</td>\n",
       "      <td>f</td>\n",
       "      <td>f</td>\n",
       "      <td>f</td>\n",
       "      <td>f</td>\n",
       "      <td>f</td>\n",
       "      <td>...</td>\n",
       "      <td>y</td>\n",
       "      <td>3.10</td>\n",
       "      <td>y</td>\n",
       "      <td>151</td>\n",
       "      <td>y</td>\n",
       "      <td>1.40</td>\n",
       "      <td>y</td>\n",
       "      <td>108</td>\n",
       "      <td>n</td>\n",
       "      <td>?</td>\n",
       "    </tr>\n",
       "  </tbody>\n",
       "</table>\n",
       "<p>153 rows × 26 columns</p>\n",
       "</div>"
      ],
      "text/plain": [
       "           status age sex on_thyroxine query_on_thyroxine  \\\n",
       "10    hypothyroid  69   F            f                  f   \n",
       "17    hypothyroid  78   F            f                  f   \n",
       "32    hypothyroid  50   F            t                  f   \n",
       "34    hypothyroid  24   F            f                  f   \n",
       "39    hypothyroid  77   F            f                  f   \n",
       "...           ...  ..  ..          ...                ...   \n",
       "3048     negative  28   M            f                  f   \n",
       "3055     negative  33   F            f                  f   \n",
       "3066     negative  74   F            t                  f   \n",
       "3111     negative  89   M            f                  f   \n",
       "3151     negative  58   F            f                  f   \n",
       "\n",
       "     on_antithyroid_medication thyroid_surgery query_hypothyroid  \\\n",
       "10                           f               f                 f   \n",
       "17                           f               f                 f   \n",
       "32                           f               f                 f   \n",
       "34                           f               f                 f   \n",
       "39                           f               f                 f   \n",
       "...                        ...             ...               ...   \n",
       "3048                         f               f                 f   \n",
       "3055                         f               f                 f   \n",
       "3066                         f               f                 f   \n",
       "3111                         f               f                 f   \n",
       "3151                         f               f                 f   \n",
       "\n",
       "     query_hyperthyroid pregnant  ... T3_measured    T3 TT4_measured  TT4  \\\n",
       "10                    f        f  ...           y  0.80            y   53   \n",
       "17                    f        f  ...           y  0.20            y   17   \n",
       "32                    f        f  ...           n     ?            y   55   \n",
       "34                    f        f  ...           y  0.70            y   28   \n",
       "39                    f        f  ...           y  0.50            y   33   \n",
       "...                 ...      ...  ...         ...   ...          ...  ...   \n",
       "3048                  f        f  ...           y  3.10            y  107   \n",
       "3055                  f        f  ...           y  0.80            y   88   \n",
       "3066                  f        f  ...           y  1.80            y  126   \n",
       "3111                  f        f  ...           y  0.90            y   82   \n",
       "3151                  f        f  ...           y  3.10            y  151   \n",
       "\n",
       "     T4U_measured   T4U FTI_measured  FTI TBG_measured TBG  \n",
       "10              y  0.86            y   61            n   ?  \n",
       "17              y  1.01            y   16            n   ?  \n",
       "32              y  0.93            y   60            n   ?  \n",
       "34              y     1            y   28            n   ?  \n",
       "39              y  0.67            y   49            n   ?  \n",
       "...           ...   ...          ...  ...          ...  ..  \n",
       "3048            y  1.05            y  103            n   ?  \n",
       "3055            y  1.02            y   86            n   ?  \n",
       "3066            y  1.18            y  107            n   ?  \n",
       "3111            y  0.80            y  103            n   ?  \n",
       "3151            y  1.40            y  108            n   ?  \n",
       "\n",
       "[153 rows x 26 columns]"
      ]
     },
     "execution_count": 89,
     "metadata": {},
     "output_type": "execute_result"
    }
   ],
   "source": [
    "# Display the duplicated records\n",
    "data2 = data[data.duplicated(keep=False)]\n",
    "print(\"Duplicate rows on all columns are:\")\n",
    "data2"
   ]
  },
  {
   "cell_type": "code",
   "execution_count": 90,
   "metadata": {
    "colab": {},
    "colab_type": "code",
    "id": "y2GCPH-6tnpi"
   },
   "outputs": [],
   "source": [
    "# Drop the duplicate rows from the dataset except for the first occurrence\n",
    "hdata = data.drop_duplicates(keep = 'first')"
   ]
  },
  {
   "cell_type": "code",
   "execution_count": 91,
   "metadata": {
    "colab": {
     "base_uri": "https://localhost:8080/",
     "height": 34
    },
    "colab_type": "code",
    "id": "Lt8GiUQVtnpo",
    "outputId": "5a51a032-5dc0-4799-9ecd-7921892772bc"
   },
   "outputs": [
    {
     "name": "stdout",
     "output_type": "stream",
     "text": [
      "Data:  77 rows have been dropped\n"
     ]
    }
   ],
   "source": [
    "# Check for the number of rows that have been dropped\n",
    "print('Data: ', data.shape[0] - hdata.shape[0] , 'rows have been dropped')"
   ]
  },
  {
   "cell_type": "code",
   "execution_count": 92,
   "metadata": {
    "colab": {
     "base_uri": "https://localhost:8080/",
     "height": 493
    },
    "colab_type": "code",
    "id": "9VGLsV2wtnps",
    "outputId": "a1221d50-ffdb-44e6-8079-fe04ffeb2a08"
   },
   "outputs": [
    {
     "name": "stdout",
     "output_type": "stream",
     "text": [
      "Cardinality of the dataset columns:\n",
      "\n",
      "status                  : 2\n",
      "age                     : 93\n",
      "sex                     : 3\n",
      "on_thyroxine            : 2\n",
      "query_on_thyroxine      : 2\n",
      "on_antithyroid_medication : 2\n",
      "thyroid_surgery         : 2\n",
      "query_hypothyroid       : 2\n",
      "query_hyperthyroid      : 2\n",
      "pregnant                : 2\n",
      "sick                    : 2\n",
      "tumor                   : 2\n",
      "lithium                 : 2\n",
      "goitre                  : 2\n",
      "TSH_measured            : 2\n",
      "TSH                     : 240\n",
      "T3_measured             : 2\n",
      "T3                      : 70\n",
      "TT4_measured            : 2\n",
      "TT4                     : 269\n",
      "T4U_measured            : 2\n",
      "T4U                     : 159\n",
      "FTI_measured            : 2\n",
      "FTI                     : 281\n",
      "TBG_measured            : 2\n",
      "TBG                     : 53\n"
     ]
    }
   ],
   "source": [
    "# Check Cardinality\n",
    "#\n",
    "# We will use a for loop to iterate through the columns \n",
    "# while checking for the number of unique values in each column.\n",
    "\n",
    "# Number of unique values in the hypothyroidsm dataset\n",
    "print('Cardinality of the dataset columns:\\n')\n",
    "for i in hdata.columns:\n",
    "  print(f'{i:<23} : {hdata[i].nunique()}')"
   ]
  },
  {
   "cell_type": "markdown",
   "metadata": {
    "colab_type": "text",
    "id": "X5A5AyNbtnpv"
   },
   "source": [
    "<li>The following columns TSH, TT4, T4U and FTI have a large number of unique values hence high cardinality. In comparison to the number of columns we will ignore the cardinality as the cardinality in relation to the number of columns is low.</li>"
   ]
  },
  {
   "cell_type": "code",
   "execution_count": 93,
   "metadata": {
    "colab": {
     "base_uri": "https://localhost:8080/",
     "height": 1000
    },
    "colab_type": "code",
    "id": "gH-a8xsztnpw",
    "outputId": "56d16c76-bb84-44f2-8578-2d4e5a7be4d8"
   },
   "outputs": [
    {
     "name": "stdout",
     "output_type": "stream",
     "text": [
      "status\n",
      "['hypothyroid' 'negative'] \n",
      "\n",
      "age\n",
      "['72' '15' '24' '77' '85' '64' '20' '42' '69' '75' '53' '59' '68' '50'\n",
      " '78' '65' '28' '43' '40' '84' '?' '83' '63' '73' '36' '27' '48' '71' '60'\n",
      " '34' '79' '62' '74' '32' '41' '70' '29' '5' '58' '35' '51' '22' '16' '44'\n",
      " '39' '47' '18' '17' '88' '56' '30' '45' '66' '52' '54' '80' '33' '38'\n",
      " '92' '67' '46' '13' '89' '61' '49' '26' '57' '31' '90' '81' '25' '37'\n",
      " '76' '87' '23' '55' '86' '98' '21' '97' '1' '6' '14' '82' '11' '19' '9'\n",
      " '12' '10' '8' '7' '4' '93'] \n",
      "\n",
      "sex\n",
      "['M' 'F' '?'] \n",
      "\n",
      "on_thyroxine\n",
      "['f' 't'] \n",
      "\n",
      "query_on_thyroxine\n",
      "['f' 't'] \n",
      "\n",
      "on_antithyroid_medication\n",
      "['f' 't'] \n",
      "\n",
      "thyroid_surgery\n",
      "['f' 't'] \n",
      "\n",
      "query_hypothyroid\n",
      "['f' 't'] \n",
      "\n",
      "query_hyperthyroid\n",
      "['f' 't'] \n",
      "\n",
      "pregnant\n",
      "['f' 't'] \n",
      "\n",
      "sick\n",
      "['f' 't'] \n",
      "\n",
      "tumor\n",
      "['f' 't'] \n",
      "\n",
      "lithium\n",
      "['f' 't'] \n",
      "\n",
      "goitre\n",
      "['f' 't'] \n",
      "\n",
      "TSH_measured\n",
      "['y' 'n'] \n",
      "\n",
      "TSH\n",
      "['30' '145' '0' '430' '7.30' '138' '7.70' '21' '92' '48' '36' '15' '15.30'\n",
      " '25' '61' '28' '170' '54' '216' '56' '71' '46' '70' '34' '53' '9.40'\n",
      " '126' '10' '530' '35' '65' '57' '125' '23' '80' '117' '49' '66' '8.20'\n",
      " '150' '?' '18' '165' '164' '24' '90' '77' '19' '58' '100' '213' '17'\n",
      " '235' '153' '13' '31' '109' '260' '43' '12' '11' '55' '6.50' '20' '7.50'\n",
      " '14' '60' '140' '33' '8.70' '0.25' '10.70' '82' '45' '42' '41' '160' '16'\n",
      " '89' '44' '176' '6.40' '183' '29' '37' '39' '7.90' '59' '68' '38' '47'\n",
      " '143' '6.60' '288' '96' '0.50' '1.20' '1.90' '0.09' '3.10' '0.40' '0.85'\n",
      " '0.30' '0.90' '1.50' '4.60' '0.20' '5.80' '4' '1.40' '2' '2.60' '2.90'\n",
      " '0.80' '4.90' '10.30' '2.30' '0.70' '0.60' '1.30' '2.50' '5.10' '1.70'\n",
      " '2.70' '22' '8.10' '3.30' '5' '3.20' '1.80' '1.10' '0.46' '1' '5.60'\n",
      " '4.40' '16.50' '2.10' '6.30' '5.50' '7.40' '5.90' '0.15' '14.90' '2.20'\n",
      " '9.70' '9.60' '1.60' '3.70' '3' '2.80' '0.10' '4.20' '27' '3.50' '0.05'\n",
      " '19.20' '8' '9.10' '3.60' '7.80' '3.80' '8.50' '9.20' '52' '2.40' '3.90'\n",
      " '0.03' '0.04' '26' '6.10' '0.65' '0.92' '7.60' '8.40' '14.40' '1.05'\n",
      " '0.37' '178' '6.90' '4.50' '4.70' '40' '6' '4.10' '14.30' '5.40' '8.30'\n",
      " '0.06' '8.80' '8.90' '7.10' '4.80' '0.43' '6.70' '200' '8.60' '86' '0.21'\n",
      " '9' '0.26' '3.40' '6.20' '17.40' '85' '1.83' '63' '13.30' '0.02' '0.42'\n",
      " '9.50' '0.84' '0.88' '4.30' '0.67' '0.81' '5.20' '9.80' '76' '0.62'\n",
      " '0.01' '11.40' '88' '0.68' '0.07' '0.69' '0.77' '9.90' '0.64' '13.20'\n",
      " '6.80' '0.28' '11.60' '0.91' '1.01' '0.23' '0.35' '50' '32' '0.83' '0.08'] \n",
      "\n",
      "T3_measured\n",
      "['y' 'n'] \n",
      "\n",
      "T3\n",
      "['0.60' '1.70' '0.20' '0.40' '1.20' '1.10' '1.30' '1.90' '?' '0.80' '2.20'\n",
      " '1.50' '2.70' '2' '0.30' '2.10' '0.50' '0.70' '1' '1.40' '2.30' '2.40'\n",
      " '0.90' '1.80' '0' '2.80' '1.60' '6.70' '3.30' '3' '2.50' '2.60' '4'\n",
      " '9.80' '3.90' '3.40' '3.80' '4.50' '3.20' '3.70' '4.30' '2.90' '3.10'\n",
      " '3.50' '3.60' '6.60' '4.90' '8.90' '4.10' '5' '5.30' '7.60' '7.30' '4.20'\n",
      " '4.40' '5.10' '7' '0.10' '0.05' '4.70' '6.20' '5.50' '4.60' '6.10' '8.10'\n",
      " '5.20' '5.60' '4.80' '10.20' '8.60'] \n",
      "\n",
      "TT4_measured\n",
      "['y' 'n'] \n",
      "\n",
      "TT4\n",
      "['15' '19' '4' '6' '57' '27' '54' '34' '39' '7.60' '53' '38' '98' '44'\n",
      " '37' '81' '13' '17' '12' '50' '23' '14' '3.90' '52' '32' '30' '84' '10'\n",
      " '55' '24' '28' '11' '6.60' '31' '33' '41' '9' '78' '42' '8.10' '65' '16'\n",
      " '9.70' '46' '22' '61' '2.30' '21' '7.50' '18' '66' '25' '43' '2' '3' '58'\n",
      " '59' '71' '74' '56' '40' '20' '48' '230' '70' '4.10' '63' '5.30' '2.90'\n",
      " '62' '75' '68' '45' '47' '36' '80' '109' '8.60' '83' '82' '101' '76'\n",
      " '103' '112' '206' '110' '93' '79' '121' '?' '107' '88' '187' '254' '115'\n",
      " '113' '260' '117' '164' '97' '64' '129' '111' '106' '95' '87' '105' '90'\n",
      " '67' '134' '35' '193' '143' '130' '108' '86' '96' '92' '99' '216' '152'\n",
      " '125' '138' '194' '91' '120' '102' '170' '126' '116' '140' '94' '159'\n",
      " '85' '210' '89' '151' '247' '139' '153' '178' '123' '137' '161' '7.30'\n",
      " '72' '202' '122' '124' '157' '118' '104' '135' '186' '241' '131' '119'\n",
      " '100' '220' '176' '136' '183' '155' '208' '199' '154' '169' '128' '235'\n",
      " '195' '267' '232' '197' '212' '149' '127' '245' '132' '162' '77' '142'\n",
      " '69' '173' '141' '156' '181' '189' '60' '114' '198' '147' '191' '177'\n",
      " '174' '207' '168' '73' '160' '145' '200' '182' '158' '203' '209' '217'\n",
      " '430' '213' '218' '163' '296' '167' '148' '166' '185' '248' '172' '144'\n",
      " '150' '165' '196' '308' '146' '426' '224' '29' '204' '201' '133' '180'\n",
      " '184' '450' '244' '301' '255' '252' '396' '223' '261' '250' '179' '219'\n",
      " '190' '51' '221' '171' '242' '275' '211' '49' '239' '205' '222' '256'\n",
      " '214' '282' '287' '253' '269' '175' '228' '333' '258' '236' '225' '263'\n",
      " '283' '359' '188' '240'] \n",
      "\n",
      "T4U_measured\n",
      "['y' 'n'] \n",
      "\n",
      "T4U\n",
      "['1.48' '1.13' '1' '1.04' '1.28' '1.19' '0.86' '1.05' '1.21' '1.02' '0.92'\n",
      " '1.29' '0.98' '1.08' '1.01' '1.18' '1.10' '1.27' '0.83' '1.11' '0.78'\n",
      " '1.39' '1.12' '0.93' '0.99' '0.90' '1.06' '0.68' '0.67' '1.14' '0.80'\n",
      " '0.96' '0.95' '1.46' '1.03' '0.97' '0.94' '1.09' '1.24' '1.23' '1.53'\n",
      " '1.26' '1.40' '1.17' '0.87' '0.61' '0.70' '1.07' '1.73' '1.45' '1.20'\n",
      " '0.89' '0.84' '0.91' '0.85' '1.35' '0.82' '1.50' '0.74' '1.71' '1.79'\n",
      " '0.73' '0.77' '1.25' '?' '0.88' '0.72' '0.31' '0' '0.79' '0.81' '0.71'\n",
      " '1.93' '1.32' '0.66' '1.68' '1.42' '1.70' '1.83' '1.41' '1.34' '1.65'\n",
      " '1.22' '0.75' '1.74' '0.69' '1.51' '0.76' '1.16' '0.35' '0.62' '0.54'\n",
      " '1.36' '1.33' '1.30' '0.48' '1.59' '1.75' '1.86' '1.38' '1.43' '1.62'\n",
      " '2.01' '0.30' '1.31' '1.15' '1.57' '0.55' '1.66' '0.52' '1.97' '1.47'\n",
      " '0.36' '1.88' '1.55' '0.34' '1.67' '0.58' '0.60' '0.59' '1.37' '1.76'\n",
      " '0.64' '1.80' '0.41' '0.20' '1.77' '0.33' '1.54' '0.46' '0.32' '1.44'\n",
      " '1.56' '0.56' '1.52' '2.03' '0.65' '0.63' '1.96' '0.53' '0.47' '0.29'\n",
      " '2.21' '1.69' '1.64' '1.49' '1.72' '1.58' '0.57' '1.61' '0.28' '2' '1.63'\n",
      " '0.27' '1.94' '0.50' '0.49' '0.40' '0.38'] \n",
      "\n",
      "FTI_measured\n",
      "['y' 'n'] \n",
      "\n",
      "FTI\n",
      "['10' '17' '0' '6' '44' '23' '63' '32' '7.50' '61' '41' '76' '45' '34'\n",
      " '81' '11' '16' '46' '22' '12' '5' '47' '29' '37' '60' '8.40' '8.50' '24'\n",
      " '28' '7' '49' '36' '15' '9' '80' '53' '7.20' '68' '6.60' '48' '21' '14'\n",
      " '2' '20' '1.40' '56' '3' '51' '13' '43' '78' '52' '64' '26' '35' '31'\n",
      " '133' '3.40' '54' '8.90' '57' '5.50' '58' '55' '2.80' '66' '4' '40' '50'\n",
      " '8.70' '87' '89' '112' '123' '99' '92' '104' '69' '196' '107' '106' '74'\n",
      " '97' '?' '122' '84' '114' '124' '241' '119' '120' '136' '85' '127' '839'\n",
      " '137' '197' '96' '77' '108' '82' '72' '94' '91' '240' '121' '109' '79'\n",
      " '100' '98' '73' '117' '165' '103' '88' '101' '126' '132' '128' '143'\n",
      " '152' '141' '186' '113' '102' '125' '93' '105' '159' '188' '71' '149'\n",
      " '116' '83' '176' '161' '86' '140' '111' '158' '115' '171' '90' '95' '70'\n",
      " '135' '134' '178' '110' '170' '205' '695' '155' '118' '741' '131' '129'\n",
      " '142' '153' '75' '254' '246' '139' '185' '157' '147' '164' '130' '222'\n",
      " '650' '174' '182' '144' '169' '257' '145' '345' '180' '167' '151' '154'\n",
      " '150' '219' '228' '65' '187' '166' '195' '208' '138' '33' '173' '146'\n",
      " '211' '181' '190' '247' '221' '395' '216' '212' '148' '162' '220' '370'\n",
      " '450' '160' '59' '189' '203' '168' '179' '264' '470' '184' '163' '67'\n",
      " '213' '354' '292' '359' '172' '156' '334' '177' '214' '194' '192' '215'\n",
      " '217' '271' '250' '244' '308' '881' '258' '316' '200' '711' '256' '232'\n",
      " '202' '39' '248' '237' '259' '445' '19' '852' '42' '235' '634' '283'\n",
      " '305' '204' '229' '332' '550' '249' '263' '615' '266' '198' '175' '209'\n",
      " '299' '193' '227' '223' '337' '210' '272' '702' '218' '239' '355' '482'\n",
      " '347' '485' '612' '428'] \n",
      "\n",
      "TBG_measured\n",
      "['n' 'y'] \n",
      "\n",
      "TBG\n",
      "['?' '28' '34' '0' '19' '30' '25' '48' '39' '31' '16' '21' '37' '40' '27'\n",
      " '3.10' '38' '108' '20' '36' '17' '23' '35' '32' '63' '9.30' '15' '26'\n",
      " '33' '41' '110' '22' '43' '53' '80' '47' '29' '13' '24' '18' '45' '86'\n",
      " '50' '8.40' '52' '11' '12' '14' '65' '7.30' '8.50' '69' '122'] \n",
      "\n"
     ]
    }
   ],
   "source": [
    "# Checking for the exact unique values in the dataset\n",
    "# We will use a for loop to iterate through the different columns\n",
    "#\n",
    "for i in hdata.columns:\n",
    "  \n",
    "  print(i)\n",
    "  print(hdata[i].unique(),'\\n')"
   ]
  },
  {
   "cell_type": "markdown",
   "metadata": {
    "colab_type": "text",
    "id": "-8rQ6wVEtnp0"
   },
   "source": [
    "<li> From the results, we observe that there are some ? in the dataset indicating presence of missing data across the dataset</li>"
   ]
  },
  {
   "cell_type": "code",
   "execution_count": 94,
   "metadata": {
    "colab": {
     "base_uri": "https://localhost:8080/",
     "height": 476
    },
    "colab_type": "code",
    "id": "2N6Tayxitnp1",
    "outputId": "110ad66c-9ab1-43a1-ad93-ba2b6d17902c"
   },
   "outputs": [
    {
     "data": {
      "text/plain": [
       "status                       0\n",
       "age                          0\n",
       "sex                          0\n",
       "on_thyroxine                 0\n",
       "query_on_thyroxine           0\n",
       "on_antithyroid_medication    0\n",
       "thyroid_surgery              0\n",
       "query_hypothyroid            0\n",
       "query_hyperthyroid           0\n",
       "pregnant                     0\n",
       "sick                         0\n",
       "tumor                        0\n",
       "lithium                      0\n",
       "goitre                       0\n",
       "TSH_measured                 0\n",
       "TSH                          0\n",
       "T3_measured                  0\n",
       "T3                           0\n",
       "TT4_measured                 0\n",
       "TT4                          0\n",
       "T4U_measured                 0\n",
       "T4U                          0\n",
       "FTI_measured                 0\n",
       "FTI                          0\n",
       "TBG_measured                 0\n",
       "TBG                          0\n",
       "dtype: int64"
      ]
     },
     "execution_count": 94,
     "metadata": {},
     "output_type": "execute_result"
    }
   ],
   "source": [
    "# Check for missing data on all columns\n",
    "hdata.isnull().sum()"
   ]
  },
  {
   "cell_type": "markdown",
   "metadata": {
    "colab_type": "text",
    "id": "RpwufIOxtnp6"
   },
   "source": [
    "<li>When we check for missing values at this point, they are not detected even though we had earlier established the presence of question marks as row values in our dataset that indicate missing or unrecorded values.</li>\n",
    "<li>Python does not recognize the question marks as missing values hence we will have to replace the the question marks(?) with null values that can be recognized by python.</li>\n",
    "<li> We replace with null values on only the columns which have ?</li>"
   ]
  },
  {
   "cell_type": "code",
   "execution_count": 95,
   "metadata": {
    "colab": {
     "base_uri": "https://localhost:8080/",
     "height": 476
    },
    "colab_type": "code",
    "id": "kEfYm-mMtnp7",
    "outputId": "ac50801f-382e-4889-80e2-8021f3411d15"
   },
   "outputs": [
    {
     "data": {
      "text/plain": [
       "status                          0\n",
       "age                           438\n",
       "sex                            73\n",
       "on_thyroxine                    0\n",
       "query_on_thyroxine              0\n",
       "on_antithyroid_medication       0\n",
       "thyroid_surgery                 0\n",
       "query_hypothyroid               0\n",
       "query_hyperthyroid              0\n",
       "pregnant                        0\n",
       "sick                            0\n",
       "tumor                           0\n",
       "lithium                         0\n",
       "goitre                          0\n",
       "TSH_measured                    0\n",
       "TSH                           455\n",
       "T3_measured                     0\n",
       "T3                            680\n",
       "TT4_measured                    0\n",
       "TT4                           240\n",
       "T4U_measured                    0\n",
       "T4U                           239\n",
       "FTI_measured                    0\n",
       "FTI                           238\n",
       "TBG_measured                    0\n",
       "TBG                          2835\n",
       "dtype: int64"
      ]
     },
     "execution_count": 95,
     "metadata": {},
     "output_type": "execute_result"
    }
   ],
   "source": [
    "# Replacing the question marks as null values\n",
    "variables =  ['age', 'sex', 'TSH', 'T3', 'TT4', 'T4U', 'FTI', 'TBG']\n",
    "\n",
    "# We then use a for loop to iterate through the columns listed above and apply the function to the columns\n",
    "# where question marks are present and replace them as null values\n",
    "for i in variables:\n",
    "  hdata[i] = hdata[i].map(lambda x: np.nan if x == '?' else x)\n",
    "\n",
    "# Now we check for null values to confirm that the question marks have been replaced successfully\n",
    "hdata.isnull().sum()"
   ]
  },
  {
   "cell_type": "markdown",
   "metadata": {
    "colab_type": "text",
    "id": "82L5nPn2tnp-"
   },
   "source": [
    "<li>Now we have a clear observation of the missing values present in the data</li>\n",
    "\n",
    "<li>TBG has a 2835 missing values out of 3162 rows</li>\n",
    "\n",
    "<li>We will keep the null values in place for now and explore the data. </li>\n",
    "\n",
    "<li>We will also model the trees with the missing values in place for now because regression and classification trees algorithms can use missing values as unique and different values when building the predictive model. </li>\n",
    "\n",
    "<li>As for the SVM modeling, we will first deal with the missing values before proceeding to build the predictive models.</li>"
   ]
  },
  {
   "cell_type": "markdown",
   "metadata": {
    "colab_type": "text",
    "id": "PNuXB84ytnqA"
   },
   "source": [
    "### Converting datatypes"
   ]
  },
  {
   "cell_type": "code",
   "execution_count": 96,
   "metadata": {
    "colab": {
     "base_uri": "https://localhost:8080/",
     "height": 476
    },
    "colab_type": "code",
    "id": "qf2EkHFytnqB",
    "outputId": "1429e021-6efa-4259-bb7c-71387e21cf7e"
   },
   "outputs": [
    {
     "data": {
      "text/plain": [
       "status                        object\n",
       "age                          float64\n",
       "sex                           object\n",
       "on_thyroxine                  object\n",
       "query_on_thyroxine            object\n",
       "on_antithyroid_medication     object\n",
       "thyroid_surgery               object\n",
       "query_hypothyroid             object\n",
       "query_hyperthyroid            object\n",
       "pregnant                      object\n",
       "sick                          object\n",
       "tumor                         object\n",
       "lithium                       object\n",
       "goitre                        object\n",
       "TSH_measured                  object\n",
       "TSH                          float64\n",
       "T3_measured                   object\n",
       "T3                           float64\n",
       "TT4_measured                  object\n",
       "TT4                          float64\n",
       "T4U_measured                  object\n",
       "T4U                          float64\n",
       "FTI_measured                  object\n",
       "FTI                          float64\n",
       "TBG_measured                  object\n",
       "TBG                          float64\n",
       "dtype: object"
      ]
     },
     "execution_count": 96,
     "metadata": {},
     "output_type": "execute_result"
    }
   ],
   "source": [
    "# As earlier confirmed, all the features are recorded as object datatypes.\n",
    "# We will now classify and group the numerical features and the categorical \n",
    "# and change the datatypes.\n",
    "\n",
    "numeric = ['age', 'TSH', 'T3', 'TT4', 'T4U', 'FTI', 'TBG']\n",
    "\n",
    "for col in numeric:\n",
    "  hdata[[col]] = hdata[[col]].apply(pd.to_numeric)\n",
    "\n",
    "hdata.dtypes"
   ]
  },
  {
   "cell_type": "markdown",
   "metadata": {
    "colab_type": "text",
    "id": "5mFUDCLrtnqF"
   },
   "source": [
    "###  5. Exploratory Data Analysis\n",
    "#### 5.1 Univariate Analysis"
   ]
  },
  {
   "cell_type": "code",
   "execution_count": 97,
   "metadata": {
    "colab": {
     "base_uri": "https://localhost:8080/",
     "height": 556
    },
    "colab_type": "code",
    "id": "tYn9cFRstnqG",
    "outputId": "d79b5751-db16-4620-fb9b-1565746b56c1"
   },
   "outputs": [
    {
     "data": {
      "image/png": "[encoded data removed]",
      "text/plain": [
       "<Figure size 936x648 with 9 Axes>"
      ]
     },
     "metadata": {},
     "output_type": "display_data"
    }
   ],
   "source": [
    "# Histograms\n",
    "hdata.hist(bins=40, figsize=(13,9))\n",
    "plt.show()"
   ]
  },
  {
   "cell_type": "code",
   "execution_count": 98,
   "metadata": {
    "colab": {
     "base_uri": "https://localhost:8080/",
     "height": 467
    },
    "colab_type": "code",
    "id": "5LWfnz5GtnqM",
    "outputId": "277459fc-0c87-4751-ac38-3042e64e65b5"
   },
   "outputs": [
    {
     "data": {
      "image/png": "[encoded data removed]",
      "text/plain": [
       "<Figure size 576x432 with 1 Axes>"
      ]
     },
     "metadata": {},
     "output_type": "display_data"
    }
   ],
   "source": [
    "# Checking for the frequency distribution of our target variable Using a bar plot.\n",
    "\n",
    "fig, ax = plt.subplots(figsize = (8, 6))\n",
    "\n",
    "hdata['status'].value_counts().plot.bar(title = 'Frequency Distribution of Thyroidism Status')\n",
    "plt.xlabel('Status', color = 'black', fontsize = 14)\n",
    "plt.ylabel('Frequency', color = 'black', fontsize = 14)\n",
    "plt.show()"
   ]
  },
  {
   "cell_type": "markdown",
   "metadata": {
    "colab_type": "text",
    "id": "XRWWD44MtnqQ"
   },
   "source": [
    "<li>We observe that most people tested negative for hypothyrodism</li>"
   ]
  },
  {
   "cell_type": "code",
   "execution_count": 99,
   "metadata": {
    "colab": {
     "base_uri": "https://localhost:8080/",
     "height": 410
    },
    "colab_type": "code",
    "id": "HM9960eBtnqR",
    "outputId": "40b89b04-643a-4667-bea1-64ddf27c9929"
   },
   "outputs": [
    {
     "data": {
      "image/png": "[encoded data removed]",
      "text/plain": [
       "<Figure size 576x432 with 1 Axes>"
      ]
     },
     "metadata": {},
     "output_type": "display_data"
    }
   ],
   "source": [
    "# Checking for the frequency distribution of the sex variable Using a bar plot.\n",
    "\n",
    "fig, ax = plt.subplots(figsize = (8, 6))\n",
    "\n",
    "hdata['sex'].value_counts().plot.bar(title = 'Frequency Distribution of Sex')\n",
    "plt.xlabel('Sex', color = 'black', fontsize = 14)\n",
    "plt.ylabel('Frequency', color = 'black', fontsize = 14)\n",
    "plt.show()"
   ]
  },
  {
   "cell_type": "markdown",
   "metadata": {
    "colab_type": "text",
    "id": "Lf_F161rtnqV"
   },
   "source": [
    "<li>Most of the patients are females than males</li>"
   ]
  },
  {
   "cell_type": "code",
   "execution_count": 100,
   "metadata": {
    "colab": {
     "base_uri": "https://localhost:8080/",
     "height": 763
    },
    "colab_type": "code",
    "id": "v_F2G7JztnqV",
    "outputId": "129973b5-3734-4efb-cf00-babbd0118262"
   },
   "outputs": [
    {
     "data": {
      "image/png": "[encoded data removed]",
      "text/plain": [
       "<Figure size 576x432 with 1 Axes>"
      ]
     },
     "metadata": {},
     "output_type": "display_data"
    },
    {
     "data": {
      "image/png": "[encoded data removed]",
      "text/plain": [
       "<Figure size 576x432 with 1 Axes>"
      ]
     },
     "metadata": {},
     "output_type": "display_data"
    }
   ],
   "source": [
    "# Investigating the distribution of status of the patients who are pregnant and those who are not.\n",
    "\n",
    "# Pregnant people\n",
    "fig, ax = plt.subplots(figsize = (8, 6))\n",
    "hdata[hdata['pregnant'] == 't']['status'].value_counts().plot.pie(title = 'Status of Pregnant People')\n",
    "plt.xlabel('Status')\n",
    "plt.show()\n",
    "\n",
    "# Non-pregnant people\n",
    "fig, ax = plt.subplots(figsize = (8, 6))\n",
    "hdata[hdata['pregnant'] == 'f']['status'].value_counts().plot.pie(title = 'Status of Non-Pregnant People')\n",
    "plt.xlabel('Status')\n",
    "plt.show()"
   ]
  },
  {
   "cell_type": "markdown",
   "metadata": {
    "colab_type": "text",
    "id": "osj0KgVOtnqZ"
   },
   "source": [
    "<li>The pie charts above, we notice that a more of the non-pregnant women have hypothyroidism as compared to the proportion of the pregnant women.</li>"
   ]
  },
  {
   "cell_type": "code",
   "execution_count": 101,
   "metadata": {
    "colab": {
     "base_uri": "https://localhost:8080/",
     "height": 640
    },
    "colab_type": "code",
    "id": "6CLAEMyAtnqa",
    "outputId": "d3bc1972-57d3-4757-9153-9b5ea4937f63"
   },
   "outputs": [
    {
     "data": {
      "image/png": "[encoded data removed]",
      "text/plain": [
       "<Figure size 1080x720 with 6 Axes>"
      ]
     },
     "metadata": {},
     "output_type": "display_data"
    }
   ],
   "source": [
    "# Boxplots\n",
    "# Creating a list of columns to check for outliers\n",
    "# Creating a list of colors\n",
    "#\n",
    "col_list = ['age', 'TSH', 'T3', 'TT4', 'T4U', 'FTI', 'TBG']\n",
    "colors = ['blueviolet', 'darkorange', 'springgreen', 'fuchsia', 'darkorange', 'blueviolet', 'springgreen']\n",
    "\n",
    "# Plotting boxplots of the col_list columns to check for outliers\n",
    "#\n",
    "fig, axes = plt.subplots(nrows = 2, ncols = 3, figsize = (15, 10))\n",
    "plt.suptitle('Boxplots', fontsize = 15, y = 0.92, color = 'indigo')\n",
    "for ax, data, column, color in zip(axes.flatten(), hdata, col_list, colors):\n",
    "  sns.boxplot(hdata[column], ax = ax, color = color)\n",
    "  ax.set_facecolor('lavender') # Setting the background color to lavender"
   ]
  },
  {
   "cell_type": "markdown",
   "metadata": {
    "colab_type": "text",
    "id": "ssEsYE6Etnqd"
   },
   "source": [
    "<li>From the boxplot above, we observe that the all the numerical columns contain outliers except for the age column.</li>"
   ]
  },
  {
   "cell_type": "markdown",
   "metadata": {
    "colab_type": "text",
    "id": "GLKhnakktnqd"
   },
   "source": [
    "#### 5.2 Bivariate Analysis\n",
    "<b>Bivariate analysis</b> refers to the analysis of two variables to determine relationships between them"
   ]
  },
  {
   "cell_type": "code",
   "execution_count": 102,
   "metadata": {
    "colab": {
     "base_uri": "https://localhost:8080/",
     "height": 520
    },
    "colab_type": "code",
    "id": "fd26YbyGtnqe",
    "outputId": "c6a7797c-5ca7-4f9e-959f-7b4cc455e5a6"
   },
   "outputs": [
    {
     "data": {
      "image/png": "[encoded data removed]",
      "text/plain": [
       "<Figure size 720x576 with 1 Axes>"
      ]
     },
     "metadata": {},
     "output_type": "display_data"
    }
   ],
   "source": [
    "# Violinplots to check for correlation between age and status.\n",
    "ax = sns.violinplot(x=\"status\", y=\"age\", inner='quartile', data=hdata)\n",
    "ax.set_title('Distribution of Status by Age', fontsize=16);"
   ]
  },
  {
   "cell_type": "markdown",
   "metadata": {
    "colab_type": "text",
    "id": "_wC3_y9Stnqi"
   },
   "source": [
    "<li>We see that the overall shape and distribution of the ages are similar for both status (quartiles very close to each other)</li>\n",
    "<li>That most people with hypothyroidism are about the ages of 60 years</li>"
   ]
  },
  {
   "cell_type": "code",
   "execution_count": 103,
   "metadata": {
    "colab": {
     "base_uri": "https://localhost:8080/",
     "height": 520
    },
    "colab_type": "code",
    "id": "xv8IGSe6tnqj",
    "outputId": "e6903b50-afa4-4d30-c93d-30bb34d1ae91"
   },
   "outputs": [
    {
     "data": {
      "image/png": "[encoded data removed]",
      "text/plain": [
       "<Figure size 720x576 with 1 Axes>"
      ]
     },
     "metadata": {},
     "output_type": "display_data"
    }
   ],
   "source": [
    "    # Violinplots to check for correlation between TT4 and status.\n",
    "ax = sns.violinplot(x=\"status\", y=\"TT4\", inner='quartile', data=hdata)\n",
    "ax.set_title('Distribution of Status by TT4', fontsize=16);"
   ]
  },
  {
   "cell_type": "markdown",
   "metadata": {
    "colab_type": "text",
    "id": "tKXzeT5ytnqm"
   },
   "source": [
    "<li>The T4 reflects the amount of thyroxine in the blood.</li>\n",
    "<li>We can observe that the lower levels of TT4 in the blood is indicative that you ahave hypothyroidsm</li>\n",
    "<li>A low T4 level could mean a diseased thyroid gland ~ OR ~ a non-functioning pituitary gland which is not stimulating the thyroid to produce T4.</li>"
   ]
  },
  {
   "cell_type": "markdown",
   "metadata": {
    "colab_type": "text",
    "id": "MoGYThVZtnqn"
   },
   "source": [
    "#### Dealing with Missing Values\n",
    "\n",
    "While using random forest classification algorithms, we will not impute the missing values with estimates of the features  since trees are not affected by missing values instead we will classify the missing values as null in categorical data and 0 in the numeric features so as to maintain the integrity of the raw data."
   ]
  },
  {
   "cell_type": "code",
   "execution_count": 104,
   "metadata": {
    "colab": {},
    "colab_type": "code",
    "id": "xFhruCMntnqo"
   },
   "outputs": [],
   "source": [
    "# Filling the missing values of numeric features\n",
    "for col in numeric:\n",
    "  hdata.fillna(0, inplace = True)\n",
    "  \n",
    "# For categorical features\n",
    "categ =  ['sex','on_thyroxine','query_on_thyroxine','on_antithyroid_medication',\n",
    "       'thyroid_surgery','query_hypothyroid','query_hyperthyroid','pregnant','sick','tumor','lithium',\n",
    "       'goitre','TSH_measured','T3_measured','TT4_measured','T4U_measured','FTI_measured','TBG_measured']\n",
    "\n",
    "for i in categ:\n",
    "  hdata.fillna('null', inplace = True)"
   ]
  },
  {
   "cell_type": "code",
   "execution_count": 105,
   "metadata": {
    "colab": {
     "base_uri": "https://localhost:8080/",
     "height": 476
    },
    "colab_type": "code",
    "id": "VYcvLGDktnqs",
    "outputId": "1e398562-e6a3-4c46-eefc-b97b4125b0ac"
   },
   "outputs": [
    {
     "data": {
      "text/plain": [
       "status                       0\n",
       "age                          0\n",
       "sex                          0\n",
       "on_thyroxine                 0\n",
       "query_on_thyroxine           0\n",
       "on_antithyroid_medication    0\n",
       "thyroid_surgery              0\n",
       "query_hypothyroid            0\n",
       "query_hyperthyroid           0\n",
       "pregnant                     0\n",
       "sick                         0\n",
       "tumor                        0\n",
       "lithium                      0\n",
       "goitre                       0\n",
       "TSH_measured                 0\n",
       "TSH                          0\n",
       "T3_measured                  0\n",
       "T3                           0\n",
       "TT4_measured                 0\n",
       "TT4                          0\n",
       "T4U_measured                 0\n",
       "T4U                          0\n",
       "FTI_measured                 0\n",
       "FTI                          0\n",
       "TBG_measured                 0\n",
       "TBG                          0\n",
       "dtype: int64"
      ]
     },
     "execution_count": 105,
     "metadata": {},
     "output_type": "execute_result"
    }
   ],
   "source": [
    "# Confirm if any  missing values\n",
    "hdata.isnull().sum()"
   ]
  },
  {
   "cell_type": "markdown",
   "metadata": {
    "colab_type": "text",
    "id": "rTXb804wGj5j"
   },
   "source": [
    "Feature Engineering"
   ]
  },
  {
   "cell_type": "code",
   "execution_count": 106,
   "metadata": {
    "colab": {},
    "colab_type": "code",
    "id": "HCqfa082Ezbo"
   },
   "outputs": [],
   "source": [
    "# Create a dictionary to manually encode the categorical data\n",
    "dict_data = {\"sex\": {\"M\": 1, \"F\": 0},\n",
    "              'on_thyroxine': {\"t\": 1, \"f\": 0},\n",
    "               \"query_on_thyroxine\": {\"t\": 1, \"f\": 0},\n",
    "                \"on_antithyroid_medication\": {\"t\": 1, \"f\": 0},\n",
    "                \"thyroid_surgery\": {\"t\": 1, \"f\": 0},\n",
    "                \"query_hypothyroid\": {\"t\": 1, \"f\": 0},\n",
    "               \"query_hyperthyroid\": {\"t\": 1, \"f\": 0},\n",
    "                \"pregnant\": {\"t\": 1, \"f\": 0},\n",
    "                \"sick\" : {\"t\": 1, \"f\": 0},\n",
    "                \"tumor\": {\"t\": 1, \"f\": 0},\n",
    "                \"lithium\": {\"t\": 1, \"f\": 0},\n",
    "                \"goitre\": {\"t\": 1, \"f\": 0},\n",
    "                 \"TSH_measured\": {\"y\": 1, \"n\": 0},\n",
    "                 \"T3_measured\": {\"y\": 1, \"n\": 0},\n",
    "                  \"TT4_measured\": {\"y\": 1, \"n\": 0},\n",
    "                  \"T4U_measured\": {\"y\": 1, \"n\": 0},\n",
    "                  \"FTI_measured\": {\"y\": 1, \"n\": 0},\n",
    "                  \"TBG_measured\": {\"y\": 1, \"n\": 0},\n",
    "                }\n",
    "hdata.replace(dict_data, inplace=True)"
   ]
  },
  {
   "cell_type": "code",
   "execution_count": 107,
   "metadata": {
    "colab": {
     "base_uri": "https://localhost:8080/",
     "height": 224
    },
    "colab_type": "code",
    "id": "nEcmHY13tnqv",
    "outputId": "5fd512c1-7b05-4e07-d2ab-6afe90057957"
   },
   "outputs": [
    {
     "data": {
      "text/html": [
       "<div>\n",
       "<style scoped>\n",
       "    .dataframe tbody tr th:only-of-type {\n",
       "        vertical-align: middle;\n",
       "    }\n",
       "\n",
       "    .dataframe tbody tr th {\n",
       "        vertical-align: top;\n",
       "    }\n",
       "\n",
       "    .dataframe thead th {\n",
       "        text-align: right;\n",
       "    }\n",
       "</style>\n",
       "<table border=\"1\" class=\"dataframe\">\n",
       "  <thead>\n",
       "    <tr style=\"text-align: right;\">\n",
       "      <th></th>\n",
       "      <th>status</th>\n",
       "      <th>age</th>\n",
       "      <th>sex</th>\n",
       "      <th>on_thyroxine</th>\n",
       "      <th>query_on_thyroxine</th>\n",
       "      <th>on_antithyroid_medication</th>\n",
       "      <th>thyroid_surgery</th>\n",
       "      <th>query_hypothyroid</th>\n",
       "      <th>query_hyperthyroid</th>\n",
       "      <th>pregnant</th>\n",
       "      <th>...</th>\n",
       "      <th>T3_measured</th>\n",
       "      <th>T3</th>\n",
       "      <th>TT4_measured</th>\n",
       "      <th>TT4</th>\n",
       "      <th>T4U_measured</th>\n",
       "      <th>T4U</th>\n",
       "      <th>FTI_measured</th>\n",
       "      <th>FTI</th>\n",
       "      <th>TBG_measured</th>\n",
       "      <th>TBG</th>\n",
       "    </tr>\n",
       "  </thead>\n",
       "  <tbody>\n",
       "    <tr>\n",
       "      <th>0</th>\n",
       "      <td>hypothyroid</td>\n",
       "      <td>72.0</td>\n",
       "      <td>1</td>\n",
       "      <td>0</td>\n",
       "      <td>0</td>\n",
       "      <td>0</td>\n",
       "      <td>0</td>\n",
       "      <td>0</td>\n",
       "      <td>0</td>\n",
       "      <td>0</td>\n",
       "      <td>...</td>\n",
       "      <td>1</td>\n",
       "      <td>0.6</td>\n",
       "      <td>1</td>\n",
       "      <td>15.0</td>\n",
       "      <td>1</td>\n",
       "      <td>1.48</td>\n",
       "      <td>1</td>\n",
       "      <td>10.0</td>\n",
       "      <td>0</td>\n",
       "      <td>0.0</td>\n",
       "    </tr>\n",
       "    <tr>\n",
       "      <th>1</th>\n",
       "      <td>hypothyroid</td>\n",
       "      <td>15.0</td>\n",
       "      <td>0</td>\n",
       "      <td>1</td>\n",
       "      <td>0</td>\n",
       "      <td>0</td>\n",
       "      <td>0</td>\n",
       "      <td>0</td>\n",
       "      <td>0</td>\n",
       "      <td>0</td>\n",
       "      <td>...</td>\n",
       "      <td>1</td>\n",
       "      <td>1.7</td>\n",
       "      <td>1</td>\n",
       "      <td>19.0</td>\n",
       "      <td>1</td>\n",
       "      <td>1.13</td>\n",
       "      <td>1</td>\n",
       "      <td>17.0</td>\n",
       "      <td>0</td>\n",
       "      <td>0.0</td>\n",
       "    </tr>\n",
       "    <tr>\n",
       "      <th>2</th>\n",
       "      <td>hypothyroid</td>\n",
       "      <td>24.0</td>\n",
       "      <td>1</td>\n",
       "      <td>0</td>\n",
       "      <td>0</td>\n",
       "      <td>0</td>\n",
       "      <td>0</td>\n",
       "      <td>0</td>\n",
       "      <td>0</td>\n",
       "      <td>0</td>\n",
       "      <td>...</td>\n",
       "      <td>1</td>\n",
       "      <td>0.2</td>\n",
       "      <td>1</td>\n",
       "      <td>4.0</td>\n",
       "      <td>1</td>\n",
       "      <td>1.00</td>\n",
       "      <td>1</td>\n",
       "      <td>0.0</td>\n",
       "      <td>0</td>\n",
       "      <td>0.0</td>\n",
       "    </tr>\n",
       "    <tr>\n",
       "      <th>3</th>\n",
       "      <td>hypothyroid</td>\n",
       "      <td>24.0</td>\n",
       "      <td>0</td>\n",
       "      <td>0</td>\n",
       "      <td>0</td>\n",
       "      <td>0</td>\n",
       "      <td>0</td>\n",
       "      <td>0</td>\n",
       "      <td>0</td>\n",
       "      <td>0</td>\n",
       "      <td>...</td>\n",
       "      <td>1</td>\n",
       "      <td>0.4</td>\n",
       "      <td>1</td>\n",
       "      <td>6.0</td>\n",
       "      <td>1</td>\n",
       "      <td>1.04</td>\n",
       "      <td>1</td>\n",
       "      <td>6.0</td>\n",
       "      <td>0</td>\n",
       "      <td>0.0</td>\n",
       "    </tr>\n",
       "    <tr>\n",
       "      <th>4</th>\n",
       "      <td>hypothyroid</td>\n",
       "      <td>77.0</td>\n",
       "      <td>1</td>\n",
       "      <td>0</td>\n",
       "      <td>0</td>\n",
       "      <td>0</td>\n",
       "      <td>0</td>\n",
       "      <td>0</td>\n",
       "      <td>0</td>\n",
       "      <td>0</td>\n",
       "      <td>...</td>\n",
       "      <td>1</td>\n",
       "      <td>1.2</td>\n",
       "      <td>1</td>\n",
       "      <td>57.0</td>\n",
       "      <td>1</td>\n",
       "      <td>1.28</td>\n",
       "      <td>1</td>\n",
       "      <td>44.0</td>\n",
       "      <td>0</td>\n",
       "      <td>0.0</td>\n",
       "    </tr>\n",
       "  </tbody>\n",
       "</table>\n",
       "<p>5 rows × 26 columns</p>\n",
       "</div>"
      ],
      "text/plain": [
       "        status   age  sex  on_thyroxine  query_on_thyroxine  \\\n",
       "0  hypothyroid  72.0    1             0                   0   \n",
       "1  hypothyroid  15.0    0             1                   0   \n",
       "2  hypothyroid  24.0    1             0                   0   \n",
       "3  hypothyroid  24.0    0             0                   0   \n",
       "4  hypothyroid  77.0    1             0                   0   \n",
       "\n",
       "   on_antithyroid_medication  thyroid_surgery  query_hypothyroid  \\\n",
       "0                          0                0                  0   \n",
       "1                          0                0                  0   \n",
       "2                          0                0                  0   \n",
       "3                          0                0                  0   \n",
       "4                          0                0                  0   \n",
       "\n",
       "   query_hyperthyroid  pregnant  ...  T3_measured   T3  TT4_measured   TT4  \\\n",
       "0                   0         0  ...            1  0.6             1  15.0   \n",
       "1                   0         0  ...            1  1.7             1  19.0   \n",
       "2                   0         0  ...            1  0.2             1   4.0   \n",
       "3                   0         0  ...            1  0.4             1   6.0   \n",
       "4                   0         0  ...            1  1.2             1  57.0   \n",
       "\n",
       "   T4U_measured   T4U  FTI_measured   FTI  TBG_measured  TBG  \n",
       "0             1  1.48             1  10.0             0  0.0  \n",
       "1             1  1.13             1  17.0             0  0.0  \n",
       "2             1  1.00             1   0.0             0  0.0  \n",
       "3             1  1.04             1   6.0             0  0.0  \n",
       "4             1  1.28             1  44.0             0  0.0  \n",
       "\n",
       "[5 rows x 26 columns]"
      ]
     },
     "execution_count": 107,
     "metadata": {},
     "output_type": "execute_result"
    }
   ],
   "source": [
    "# Previwing dataset after changes\n",
    "hdata.head()"
   ]
  },
  {
   "cell_type": "markdown",
   "metadata": {
    "colab_type": "text",
    "id": "97O3ynkktnq3"
   },
   "source": [
    "### 6. Implementing the Solution\n",
    "#### a) Random Forest"
   ]
  },
  {
   "cell_type": "code",
   "execution_count": 108,
   "metadata": {
    "colab": {
     "base_uri": "https://localhost:8080/",
     "height": 359
    },
    "colab_type": "code",
    "id": "Ko_edEantnq4",
    "outputId": "0b449411-3280-4a16-c1de-3f7e0ce09699"
   },
   "outputs": [
    {
     "data": {
      "text/html": [
       "<div>\n",
       "<style scoped>\n",
       "    .dataframe tbody tr th:only-of-type {\n",
       "        vertical-align: middle;\n",
       "    }\n",
       "\n",
       "    .dataframe tbody tr th {\n",
       "        vertical-align: top;\n",
       "    }\n",
       "\n",
       "    .dataframe thead th {\n",
       "        text-align: right;\n",
       "    }\n",
       "</style>\n",
       "<table border=\"1\" class=\"dataframe\">\n",
       "  <thead>\n",
       "    <tr style=\"text-align: right;\">\n",
       "      <th></th>\n",
       "      <th>Actual</th>\n",
       "      <th>Predicted</th>\n",
       "    </tr>\n",
       "  </thead>\n",
       "  <tbody>\n",
       "    <tr>\n",
       "      <th>1188</th>\n",
       "      <td>negative</td>\n",
       "      <td>negative</td>\n",
       "    </tr>\n",
       "    <tr>\n",
       "      <th>1205</th>\n",
       "      <td>negative</td>\n",
       "      <td>negative</td>\n",
       "    </tr>\n",
       "    <tr>\n",
       "      <th>713</th>\n",
       "      <td>negative</td>\n",
       "      <td>negative</td>\n",
       "    </tr>\n",
       "    <tr>\n",
       "      <th>2791</th>\n",
       "      <td>negative</td>\n",
       "      <td>negative</td>\n",
       "    </tr>\n",
       "    <tr>\n",
       "      <th>1318</th>\n",
       "      <td>negative</td>\n",
       "      <td>negative</td>\n",
       "    </tr>\n",
       "    <tr>\n",
       "      <th>1328</th>\n",
       "      <td>negative</td>\n",
       "      <td>negative</td>\n",
       "    </tr>\n",
       "    <tr>\n",
       "      <th>1012</th>\n",
       "      <td>negative</td>\n",
       "      <td>negative</td>\n",
       "    </tr>\n",
       "    <tr>\n",
       "      <th>2604</th>\n",
       "      <td>negative</td>\n",
       "      <td>negative</td>\n",
       "    </tr>\n",
       "    <tr>\n",
       "      <th>2583</th>\n",
       "      <td>negative</td>\n",
       "      <td>negative</td>\n",
       "    </tr>\n",
       "    <tr>\n",
       "      <th>1250</th>\n",
       "      <td>negative</td>\n",
       "      <td>negative</td>\n",
       "    </tr>\n",
       "  </tbody>\n",
       "</table>\n",
       "</div>"
      ],
      "text/plain": [
       "        Actual Predicted\n",
       "1188  negative  negative\n",
       "1205  negative  negative\n",
       "713   negative  negative\n",
       "2791  negative  negative\n",
       "1318  negative  negative\n",
       "1328  negative  negative\n",
       "1012  negative  negative\n",
       "2604  negative  negative\n",
       "2583  negative  negative\n",
       "1250  negative  negative"
      ]
     },
     "execution_count": 108,
     "metadata": {},
     "output_type": "execute_result"
    }
   ],
   "source": [
    "# Selecting the independent and target variables\n",
    "X = hdata.drop('status', axis = 1)\n",
    "y = hdata.status\n",
    "\n",
    "# Splitting the data into training and testing sets\n",
    "#\n",
    "X_train, X_test, y_train, y_test = train_test_split(X, y, test_size = 0.2, random_state = 0)\n",
    "\n",
    "# Modeling\n",
    "\n",
    "forest = RandomForestClassifier()\n",
    "forest.fit(X_train, y_train)\n",
    "\n",
    "y_pred = forest.predict(X_test)\n",
    "\n",
    "comparison_frame = pd.DataFrame({'Actual' : y_test, 'Predicted' : y_pred})\n",
    "\n",
    "comparison_frame.head(10)"
   ]
  },
  {
   "cell_type": "code",
   "execution_count": 109,
   "metadata": {
    "colab": {
     "base_uri": "https://localhost:8080/",
     "height": 34
    },
    "colab_type": "code",
    "id": "a5AgWoOItnq8",
    "outputId": "617977df-8bd3-44b9-a3f3-59ab432ef602"
   },
   "outputs": [
    {
     "name": "stdout",
     "output_type": "stream",
     "text": [
      "Accuracy: 0.9870550161812298\n"
     ]
    }
   ],
   "source": [
    "# Measuring the accuracy of the model\n",
    "#\n",
    "print(\"Accuracy:\", metrics.accuracy_score(y_test, y_pred))"
   ]
  },
  {
   "cell_type": "markdown",
   "metadata": {
    "colab_type": "text",
    "id": "HpyedFaBtnq_"
   },
   "source": [
    "<li>The random forest model has a 99.19%</li>"
   ]
  },
  {
   "cell_type": "markdown",
   "metadata": {
    "colab_type": "text",
    "id": "rb87IwRktnrA"
   },
   "source": [
    "#### Parameter Tuning"
   ]
  },
  {
   "cell_type": "code",
   "execution_count": 110,
   "metadata": {
    "colab": {
     "base_uri": "https://localhost:8080/",
     "height": 153
    },
    "colab_type": "code",
    "id": "iZEbJoxFtnrB",
    "outputId": "5393d833-c12f-48ae-9a9d-95a31afaa3eb"
   },
   "outputs": [
    {
     "data": {
      "text/plain": [
       "RandomForestClassifier(bootstrap=True, class_weight=None, criterion='gini',\n",
       "                       max_depth=None, max_features='auto', max_leaf_nodes=None,\n",
       "                       min_impurity_decrease=0.0, min_impurity_split=None,\n",
       "                       min_samples_leaf=1, min_samples_split=2,\n",
       "                       min_weight_fraction_leaf=0.0, n_estimators='warn',\n",
       "                       n_jobs=None, oob_score=False, random_state=None,\n",
       "                       verbose=0, warm_start=False)"
      ]
     },
     "execution_count": 110,
     "metadata": {},
     "output_type": "execute_result"
    }
   ],
   "source": [
    "# Previewing the parameters to tune\n",
    "#\n",
    "RandomForestClassifier()"
   ]
  },
  {
   "cell_type": "code",
   "execution_count": 111,
   "metadata": {
    "colab": {
     "base_uri": "https://localhost:8080/",
     "height": 34
    },
    "colab_type": "code",
    "id": "4UzeWthJtnrE",
    "outputId": "2845dd78-16f7-4259-e1cf-c5b5ba56c76b"
   },
   "outputs": [
    {
     "data": {
      "text/plain": [
       "{'max_depth': 5, 'n_estimators': 50}"
      ]
     },
     "execution_count": 111,
     "metadata": {},
     "output_type": "execute_result"
    }
   ],
   "source": [
    "# Hyperparameter tuning the RandomForestClassifier\n",
    "\n",
    "from sklearn.model_selection import GridSearchCV\n",
    "\n",
    "params = {'n_estimators' : [10, 20, 30, 50, 100], \n",
    "          'max_depth' : [1, 2, 3, 4, 5]}\n",
    "\n",
    "kfold = KFold(n_splits=10, shuffle=True)\n",
    "forest = RandomForestClassifier()\n",
    "\n",
    "search = GridSearchCV(forest, param_grid=params, scoring = 'accuracy', cv = kfold)\n",
    "\n",
    "search.fit(X, y)\n",
    "search.best_params_"
   ]
  },
  {
   "cell_type": "code",
   "execution_count": 112,
   "metadata": {
    "colab": {
     "base_uri": "https://localhost:8080/",
     "height": 34
    },
    "colab_type": "code",
    "id": "kQYM_vqmtnrH",
    "outputId": "83dfa3e1-0c9f-43a5-8389-0fcc41047925"
   },
   "outputs": [
    {
     "name": "stdout",
     "output_type": "stream",
     "text": [
      "Accuracy: 0.9902912621359223\n"
     ]
    }
   ],
   "source": [
    "# Fitting the best parameters to the model and observe the performance\n",
    "\n",
    "forest = RandomForestClassifier(n_estimators = 50, criterion = 'entropy', max_depth = 5)\n",
    "forest.fit(X_train, y_train)\n",
    "\n",
    "y_pred = forest.predict(X_test)\n",
    "\n",
    "# Evaluating the model performance\n",
    "print(\"Accuracy:\", metrics.accuracy_score(y_test, y_pred))\n"
   ]
  },
  {
   "cell_type": "markdown",
   "metadata": {
    "colab_type": "text",
    "id": "Iubrsv8OKmCC"
   },
   "source": [
    "<li>The accuracy is still 99.03%</li>\n"
   ]
  },
  {
   "cell_type": "code",
   "execution_count": 113,
   "metadata": {
    "colab": {
     "base_uri": "https://localhost:8080/",
     "height": 812
    },
    "colab_type": "code",
    "id": "O0pyrbGutnrL",
    "outputId": "830ba74e-10d0-4296-aecc-316a82afd0c1"
   },
   "outputs": [
    {
     "ename": "InvocationException",
     "evalue": "GraphViz's executables not found",
     "output_type": "error",
     "traceback": [
      "\u001b[1;31m---------------------------------------------------------------------------\u001b[0m",
      "\u001b[1;31mInvocationException\u001b[0m                       Traceback (most recent call last)",
      "\u001b[1;32m<ipython-input-113-55a0fa7899f4>\u001b[0m in \u001b[0;36m<module>\u001b[1;34m\u001b[0m\n\u001b[0;32m      9\u001b[0m \u001b[1;33m\u001b[0m\u001b[0m\n\u001b[0;32m     10\u001b[0m \u001b[0mgraph\u001b[0m \u001b[1;33m=\u001b[0m \u001b[0mpydotplus\u001b[0m\u001b[1;33m.\u001b[0m\u001b[0mgraph_from_dot_data\u001b[0m\u001b[1;33m(\u001b[0m\u001b[0mdot_data\u001b[0m\u001b[1;33m.\u001b[0m\u001b[0mgetvalue\u001b[0m\u001b[1;33m(\u001b[0m\u001b[1;33m)\u001b[0m\u001b[1;33m)\u001b[0m\u001b[1;33m\u001b[0m\u001b[1;33m\u001b[0m\u001b[0m\n\u001b[1;32m---> 11\u001b[1;33m \u001b[0mgraph\u001b[0m\u001b[1;33m.\u001b[0m\u001b[0mwrite_png\u001b[0m\u001b[1;33m(\u001b[0m\u001b[1;34m'hypo_forest.png'\u001b[0m\u001b[1;33m)\u001b[0m\u001b[1;33m\u001b[0m\u001b[1;33m\u001b[0m\u001b[0m\n\u001b[0m\u001b[0;32m     12\u001b[0m \u001b[0mImage\u001b[0m\u001b[1;33m(\u001b[0m\u001b[0mgraph\u001b[0m\u001b[1;33m.\u001b[0m\u001b[0mcreate_png\u001b[0m\u001b[1;33m(\u001b[0m\u001b[1;33m)\u001b[0m\u001b[1;33m)\u001b[0m\u001b[1;33m\u001b[0m\u001b[1;33m\u001b[0m\u001b[0m\n",
      "\u001b[1;32m~\\Anaconda3\\lib\\site-packages\\pydotplus\\graphviz.py\u001b[0m in \u001b[0;36m<lambda>\u001b[1;34m(path, f, prog)\u001b[0m\n\u001b[0;32m   1808\u001b[0m                 \u001b[1;32mlambda\u001b[0m \u001b[0mpath\u001b[0m\u001b[1;33m,\u001b[0m\u001b[1;33m\u001b[0m\u001b[1;33m\u001b[0m\u001b[0m\n\u001b[0;32m   1809\u001b[0m                 \u001b[0mf\u001b[0m\u001b[1;33m=\u001b[0m\u001b[0mfrmt\u001b[0m\u001b[1;33m,\u001b[0m\u001b[1;33m\u001b[0m\u001b[1;33m\u001b[0m\u001b[0m\n\u001b[1;32m-> 1810\u001b[1;33m                 \u001b[0mprog\u001b[0m\u001b[1;33m=\u001b[0m\u001b[0mself\u001b[0m\u001b[1;33m.\u001b[0m\u001b[0mprog\u001b[0m\u001b[1;33m:\u001b[0m \u001b[0mself\u001b[0m\u001b[1;33m.\u001b[0m\u001b[0mwrite\u001b[0m\u001b[1;33m(\u001b[0m\u001b[0mpath\u001b[0m\u001b[1;33m,\u001b[0m \u001b[0mformat\u001b[0m\u001b[1;33m=\u001b[0m\u001b[0mf\u001b[0m\u001b[1;33m,\u001b[0m \u001b[0mprog\u001b[0m\u001b[1;33m=\u001b[0m\u001b[0mprog\u001b[0m\u001b[1;33m)\u001b[0m\u001b[1;33m\u001b[0m\u001b[1;33m\u001b[0m\u001b[0m\n\u001b[0m\u001b[0;32m   1811\u001b[0m             )\n\u001b[0;32m   1812\u001b[0m \u001b[1;33m\u001b[0m\u001b[0m\n",
      "\u001b[1;32m~\\Anaconda3\\lib\\site-packages\\pydotplus\\graphviz.py\u001b[0m in \u001b[0;36mwrite\u001b[1;34m(self, path, prog, format)\u001b[0m\n\u001b[0;32m   1916\u001b[0m \u001b[1;33m\u001b[0m\u001b[0m\n\u001b[0;32m   1917\u001b[0m             \u001b[1;32melse\u001b[0m\u001b[1;33m:\u001b[0m\u001b[1;33m\u001b[0m\u001b[1;33m\u001b[0m\u001b[0m\n\u001b[1;32m-> 1918\u001b[1;33m                 \u001b[0mfobj\u001b[0m\u001b[1;33m.\u001b[0m\u001b[0mwrite\u001b[0m\u001b[1;33m(\u001b[0m\u001b[0mself\u001b[0m\u001b[1;33m.\u001b[0m\u001b[0mcreate\u001b[0m\u001b[1;33m(\u001b[0m\u001b[0mprog\u001b[0m\u001b[1;33m,\u001b[0m \u001b[0mformat\u001b[0m\u001b[1;33m)\u001b[0m\u001b[1;33m)\u001b[0m\u001b[1;33m\u001b[0m\u001b[1;33m\u001b[0m\u001b[0m\n\u001b[0m\u001b[0;32m   1919\u001b[0m         \u001b[1;32mfinally\u001b[0m\u001b[1;33m:\u001b[0m\u001b[1;33m\u001b[0m\u001b[1;33m\u001b[0m\u001b[0m\n\u001b[0;32m   1920\u001b[0m             \u001b[1;32mif\u001b[0m \u001b[0mclose\u001b[0m\u001b[1;33m:\u001b[0m\u001b[1;33m\u001b[0m\u001b[1;33m\u001b[0m\u001b[0m\n",
      "\u001b[1;32m~\\Anaconda3\\lib\\site-packages\\pydotplus\\graphviz.py\u001b[0m in \u001b[0;36mcreate\u001b[1;34m(self, prog, format)\u001b[0m\n\u001b[0;32m   1958\u001b[0m             \u001b[1;32mif\u001b[0m \u001b[0mself\u001b[0m\u001b[1;33m.\u001b[0m\u001b[0mprogs\u001b[0m \u001b[1;32mis\u001b[0m \u001b[1;32mNone\u001b[0m\u001b[1;33m:\u001b[0m\u001b[1;33m\u001b[0m\u001b[1;33m\u001b[0m\u001b[0m\n\u001b[0;32m   1959\u001b[0m                 raise InvocationException(\n\u001b[1;32m-> 1960\u001b[1;33m                     'GraphViz\\'s executables not found')\n\u001b[0m\u001b[0;32m   1961\u001b[0m \u001b[1;33m\u001b[0m\u001b[0m\n\u001b[0;32m   1962\u001b[0m         \u001b[1;32mif\u001b[0m \u001b[0mprog\u001b[0m \u001b[1;32mnot\u001b[0m \u001b[1;32min\u001b[0m \u001b[0mself\u001b[0m\u001b[1;33m.\u001b[0m\u001b[0mprogs\u001b[0m\u001b[1;33m:\u001b[0m\u001b[1;33m\u001b[0m\u001b[1;33m\u001b[0m\u001b[0m\n",
      "\u001b[1;31mInvocationException\u001b[0m: GraphViz's executables not found"
     ]
    }
   ],
   "source": [
    "# Visualizing a tree from the random forest\n",
    "dot_data = StringIO()\n",
    "\n",
    "# Picking a specific tree from the forest\n",
    "rand_tree = forest.estimators_[2]\n",
    "\n",
    "export_graphviz(rand_tree, out_file = dot_data, filled = True, rounded = True,\n",
    "              special_characters = True, feature_names = X.columns)\n",
    "\n",
    "graph = pydotplus.graph_from_dot_data(dot_data.getvalue())\n",
    "graph.write_png('hypo_forest.png')\n",
    "Image(graph.create_png())"
   ]
  },
  {
   "cell_type": "code",
   "execution_count": 114,
   "metadata": {
    "colab": {
     "base_uri": "https://localhost:8080/",
     "height": 356
    },
    "colab_type": "code",
    "id": "Eh1vkNLJtnrO",
    "outputId": "fb813664-2fa3-45d4-ee7c-2eb1a20c7c39"
   },
   "outputs": [
    {
     "data": {
      "image/png": "[encoded data removed]",
      "text/plain": [
       "<Figure size 720x360 with 1 Axes>"
      ]
     },
     "metadata": {},
     "output_type": "display_data"
    }
   ],
   "source": [
    "# Checking for the most important features that contribute most in predicting the target\n",
    "# Creating a dataframe of features and their respective importances\n",
    "impo_df = pd.DataFrame({'Features': X.columns, 'importances':rand_tree.feature_importances_}).sort_values(by='importances', ascending=False).set_index('Features')\n",
    "\n",
    "# Creating a bar chart of feature importance in descending order\n",
    "impo_df = impo_df[:10].sort_values(by = 'importances', ascending = True)\n",
    "impo_df.plot(kind = 'barh', figsize = (10,5), color = 'purple')\n",
    "plt.legend(loc = 'center right')\n",
    "plt.title('Bar chart showing feature importance', color = 'indigo', fontsize = 14)\n",
    "plt.xlabel('Features', fontsize = 12, color = 'indigo')\n",
    "plt.show()"
   ]
  },
  {
   "cell_type": "markdown",
   "metadata": {
    "colab_type": "text",
    "id": "QT2Dub4ENVPB"
   },
   "source": [
    "The top 5 imprtant features are:\n",
    "<li>TT4</li>\n",
    "<li>T3</li>\n",
    "<li>FTI</li>\n",
    "<li>T4U</li>\n",
    "<li>TSH</li>"
   ]
  },
  {
   "cell_type": "markdown",
   "metadata": {
    "colab_type": "text",
    "id": "FXm2U2MFtnrR"
   },
   "source": [
    "#### Adaboost\n",
    "<li>Optimizing the RandomForestClassifier Using Adaboost</li>"
   ]
  },
  {
   "cell_type": "code",
   "execution_count": 115,
   "metadata": {
    "colab": {
     "base_uri": "https://localhost:8080/",
     "height": 34
    },
    "colab_type": "code",
    "id": "wRDfIc5OtnrS",
    "outputId": "0545e31d-5186-456f-f5ec-65e998ddc385"
   },
   "outputs": [
    {
     "name": "stdout",
     "output_type": "stream",
     "text": [
      "Accuracy: 0.9919093851132686\n"
     ]
    }
   ],
   "source": [
    "#Adaboost Trees\n",
    "ad_boost = AdaBoostClassifier(RandomForestClassifier(max_depth = 4),\n",
    "                          n_estimators=300, random_state = 0)\n",
    "\n",
    "ad_boost = ad_boost.fit(X_train, y_train)\n",
    "ad_pred = ad_boost.predict(X_test)\n",
    "\n",
    "# Checking the accuracy of the prediction\n",
    "\n",
    "print(\"Accuracy:\", metrics.accuracy_score(y_test, ad_pred))"
   ]
  },
  {
   "cell_type": "code",
   "execution_count": 116,
   "metadata": {
    "colab": {
     "base_uri": "https://localhost:8080/",
     "height": 356
    },
    "colab_type": "code",
    "id": "ZaaIwJk8tnrW",
    "outputId": "06194150-857c-4738-dc9f-1fc8f5e2f74e"
   },
   "outputs": [
    {
     "data": {
      "image/png": "[encoded data removed]",
      "text/plain": [
       "<Figure size 720x360 with 1 Axes>"
      ]
     },
     "metadata": {},
     "output_type": "display_data"
    }
   ],
   "source": [
    "# Checking for the most important features that contribute most in predicting the target\n",
    "# Creating a dataframe of features and their respective importances\n",
    "ad_df = pd.DataFrame({'Features': X.columns, 'importances':ad_boost.feature_importances_}).sort_values(by='importances', ascending=False).set_index('Features')\n",
    "\n",
    "# Creating a bar chart of feature importance in descending order\n",
    "ad_df = ad_df[:5].sort_values(by = 'importances', ascending = True)\n",
    "ad_df.plot(kind = 'barh', figsize = (10,5), color = 'darkcyan')\n",
    "plt.legend(loc = 'center right')\n",
    "plt.title('Bar chart showing feature importance', color = 'darkcyan', fontsize = 14)\n",
    "plt.xlabel('Features', fontsize = 12, color = 'darkcyan')\n",
    "plt.show()"
   ]
  },
  {
   "cell_type": "markdown",
   "metadata": {
    "colab_type": "text",
    "id": "M5Yg03xJQWgI"
   },
   "source": [
    "The 5 top most important features in predicting the outcomes in the Adaboost model are:\n",
    "<li>TSH</li>\n",
    "<li>FTI</li>\n",
    "<li>TT4</li>\n",
    "<li>T4u</li>\n",
    "<li>Age</li>"
   ]
  },
  {
   "cell_type": "code",
   "execution_count": 117,
   "metadata": {},
   "outputs": [],
   "source": [
    "# Imputing the missing values\n",
    "hdata['age'].fillna(hdata['age'].mean(), inplace = True)\n",
    "hdata['sex'].fillna(0, inplace = True)\n",
    "hdata['TSH'].fillna(hdata['TSH'].mean(), inplace = True)\n",
    "hdata['T3'].fillna(hdata['T3'].median(), inplace = True)\n",
    "hdata['TT4'].fillna(hdata['TT4'].median(), inplace = True)\n",
    "hdata['FTI'].fillna(hdata['FTI'].median(), inplace = True)\n",
    "hdata['T4U'].fillna(hdata['T4U'].mean(), inplace = True)\n",
    "hdata['TBG'].fillna(hdata['TBG'].mean(), inplace = True)"
   ]
  },
  {
   "cell_type": "markdown",
   "metadata": {
    "colab_type": "text",
    "id": "Wv6pHjG-RZwa"
   },
   "source": [
    "### Support Vector Machine Model"
   ]
  },
  {
   "cell_type": "code",
   "execution_count": 118,
   "metadata": {
    "colab": {
     "base_uri": "https://localhost:8080/",
     "height": 68
    },
    "colab_type": "code",
    "id": "1p1FVNKpPbz7",
    "outputId": "4e486a9d-c492-4c59-df32-1d3110b4782c"
   },
   "outputs": [
    {
     "name": "stdout",
     "output_type": "stream",
     "text": [
      "The accuracy score of Polynomial is: 0.9827213822894169 and the f1 score is: 0.7500000000000001\n",
      "The accuracy score of Linear     is: 0.9794816414686826 and the f1 score is: 0.7164179104477612\n",
      "The accuracy score of Rbf        is: 0.9848812095032398 and the f1 score is: 0.7941176470588235\n"
     ]
    }
   ],
   "source": [
    "# Selecting the independent variables and the target variable\n",
    "#\n",
    "X = hdata[['FTI', 'TSH']].values\n",
    "y = np.where(hdata.status == 'hypothyroid', 1, 0)\n",
    "\n",
    "# Instantiating and creating a list of models for iteration\n",
    "#\n",
    "poly = SVC(kernel='poly')\n",
    "linear = SVC(kernel = 'linear')\n",
    "rbf = SVC(kernel ='rbf')\n",
    "\n",
    "# Creating a list of the models and model names\n",
    "#\n",
    "models = [poly, linear, rbf]\n",
    "model_names = ['Polynomial', 'Linear', 'Rbf']\n",
    "# Creating a function that trains a model and returns its accuracy together with the model\n",
    "#\n",
    "def predictor(model, X, y):\n",
    "  # Splitting the data into training and testing sets\n",
    "  X_train, X_test, y_train, y_test = train_test_split(X, y, test_size = 0.3, random_state = 0)\n",
    "  \n",
    "  # Standardising the data\n",
    "  from sklearn.preprocessing import StandardScaler\n",
    "  sc = StandardScaler()\n",
    "  X_train = sc.fit_transform(X_train)\n",
    "  X_test = sc.transform(X_test)\n",
    "  \n",
    "  # Training the model and making predictions\n",
    "  model.fit(X_train, y_train)\n",
    "  y_pred = model.predict(X_test)\n",
    "  \n",
    "  # Measuring the accuracy of the model\n",
    "  f1 = f1_score(y_test, y_pred)\n",
    "  acc = accuracy_score(y_test, y_pred)\n",
    "  \n",
    "  # Returning the accuracy and the model\n",
    "  return acc, f1, model\n",
    "\n",
    "# Getting the accuracies of the models  using a for loop\n",
    "#\n",
    "for model, name in zip(models, model_names):\n",
    "  print(f'The accuracy score of {name:<10} is: {predictor(model, X, y)[0]} and the f1 score is: {predictor(model, X, y)[1]}')"
   ]
  },
  {
   "cell_type": "markdown",
   "metadata": {
    "colab_type": "text",
    "id": "1xPX-A7GR0Mi"
   },
   "source": [
    "The best performing Support Vector Classifier kernel is RBF. It has an f1 score of approximately of 80% which is more than that of polynomial and linear"
   ]
  }
 ],
 "metadata": {
  "colab": {
   "name": "Hypothyroid_Prediction.ipynb",
   "provenance": [],
   "toc_visible": true
  },
  "kernelspec": {
   "display_name": "Python 3",
   "language": "python",
   "name": "python3"
  },
  "language_info": {
   "codemirror_mode": {
    "name": "ipython",
    "version": 3
   },
   "file_extension": ".py",
   "mimetype": "text/x-python",
   "name": "python",
   "nbconvert_exporter": "python",
   "pygments_lexer": "ipython3",
   "version": "3.7.4"
  }
 },
 "nbformat": 4,
 "nbformat_minor": 1
}
